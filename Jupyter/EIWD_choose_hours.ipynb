{
 "cells": [
  {
   "cell_type": "code",
   "execution_count": 1,
   "id": "058b6c19",
   "metadata": {},
   "outputs": [],
   "source": [
    "%matplotlib inline\n",
    "\n",
    "import numpy as np\n",
    "import pandas as pd\n",
    "import matplotlib.pyplot as plt\n",
    "import seaborn as sns"
   ]
  },
  {
   "cell_type": "code",
   "execution_count": 2,
   "id": "1730bbbd",
   "metadata": {},
   "outputs": [],
   "source": [
    "#filename = \"../data/EIDW/2019/PIs/PIs_vertical_by_flight_2019_10_week1.csv\"\n",
    "filename = \"../data/EIDW/2019/PIs/PIs_vertical_by_flight_2019_10_week1_rwy28.csv\"\n",
    "vertical_PIs_by_flight_week1_rwy28_df = pd.read_csv(filename, sep=' ')\n",
    "\n",
    "filename = \"../data/EIDW/2019/PIs/PIs_vertical_by_flight_2019_10_week2_rwy28.csv\"\n",
    "vertical_PIs_by_flight_week2_rwy28_df = pd.read_csv(filename, sep=' ')\n",
    "\n",
    "filename = \"../data/EIDW/2019/PIs/PIs_vertical_by_flight_2019_10_week3_rwy28.csv\"\n",
    "vertical_PIs_by_flight_week3_rwy28_df = pd.read_csv(filename, sep=' ')\n",
    "\n",
    "filename = \"../data/EIDW/2019/PIs/PIs_vertical_by_flight_2019_10_week4_rwy28.csv\"\n",
    "vertical_PIs_by_flight_week4_rwy28_df = pd.read_csv(filename, sep=' ')\n",
    "\n",
    "#filename = \"../data/EIDW/2019/PIs/PIs_vertical_by_hour_2019_10_rwy28.csv\"\n",
    "filename = \"../data/EIDW/2019/PIs/PIs_vertical_by_hour_2019_10_week1_rwy28.csv\"\n",
    "vertical_PIs_by_hour_week1_rwy28_df = pd.read_csv(filename, sep=' ')\n",
    "\n",
    "filename = \"../data/EIDW/2019/PIs/PIs_vertical_by_hour_2019_10_week2_rwy28.csv\"\n",
    "vertical_PIs_by_hour_week2_rwy28_df = pd.read_csv(filename, sep=' ')\n",
    "\n",
    "filename = \"../data/EIDW/2019/PIs/PIs_vertical_by_hour_2019_10_week3_rwy28.csv\"\n",
    "vertical_PIs_by_hour_week3_rwy28_df = pd.read_csv(filename, sep=' ')\n",
    "\n",
    "filename = \"../data/EIDW/2019/PIs/PIs_vertical_by_hour_2019_10_week4_rwy28.csv\"\n",
    "vertical_PIs_by_hour_week4_rwy28_df = pd.read_csv(filename, sep=' ')"
   ]
  },
  {
   "cell_type": "code",
   "execution_count": 3,
   "id": "a185e3b8",
   "metadata": {},
   "outputs": [
    {
     "name": "stdout",
     "output_type": "stream",
     "text": [
      "     date  hour  number_of_flights  TMA_time_median  TMA_time_mean\n",
      "0  191001     0                  1           11.867         11.867\n",
      "1  191001     1                  1           12.983         12.983\n",
      "2  191001     2                  0            0.000          0.000\n",
      "3  191001     3                  0            0.000          0.000\n",
      "4  191001     4                  1            6.733          6.733\n"
     ]
    }
   ],
   "source": [
    "vertical_PIs_by_hour_df = vertical_PIs_by_hour_df[['date', 'hour', 'number_of_flights', 'TMA_time_median', 'TMA_time_mean']]\n",
    "print(vertical_PIs_by_hour_df.head())"
   ]
  },
  {
   "cell_type": "code",
   "execution_count": 4,
   "id": "2cad2d2b",
   "metadata": {},
   "outputs": [
    {
     "name": "stdout",
     "output_type": "stream",
     "text": [
      "     date  hour  number_of_flights  TMA_time_median  TMA_time_mean\n",
      "9  191001     9                  2           28.566         28.566\n"
     ]
    }
   ],
   "source": [
    "max_TMA_time_mean = vertical_PIs_by_hour_df['TMA_time_mean'].max()\n",
    "print(vertical_PIs_by_hour_df[vertical_PIs_by_hour_df['TMA_time_mean']==max_TMA_time_mean])"
   ]
  },
  {
   "cell_type": "code",
   "execution_count": 5,
   "id": "06c32db8",
   "metadata": {},
   "outputs": [
    {
     "name": "stdout",
     "output_type": "stream",
     "text": [
      "      date  hour  number_of_flights  TMA_time_median  TMA_time_mean\n",
      "13  191001    13                 14           28.966         26.823\n"
     ]
    }
   ],
   "source": [
    "max_TMA_time_median = vertical_PIs_by_hour_df['TMA_time_median'].max()\n",
    "print(vertical_PIs_by_hour_df[vertical_PIs_by_hour_df['TMA_time_median']==max_TMA_time_median])"
   ]
  },
  {
   "cell_type": "code",
   "execution_count": 9,
   "id": "1dc35559",
   "metadata": {},
   "outputs": [],
   "source": [
    "df = vertical_PIs_by_flight_df[(vertical_PIs_by_flight_df['date']==191001) & (vertical_PIs_by_flight_df['hour']==9)]\n",
    "#print(df)\n",
    "#191001EIN124\n",
    "#191001UAL126"
   ]
  },
  {
   "cell_type": "code",
   "execution_count": 8,
   "id": "051f76b9",
   "metadata": {},
   "outputs": [],
   "source": [
    "df = vertical_PIs_by_flight_df[(vertical_PIs_by_flight_df['date']==191001) & (vertical_PIs_by_flight_df['hour']==13)]\n",
    "#print(df)\n",
    "#191001BAW84DM\n",
    "#191001CFE9765P\n",
    "#191001EIN159\n",
    "#191001EIN1PE\n",
    "#191001EIN3GC\n",
    "#191001EIN42N\n",
    "#191001EIN525\n",
    "#191001EIN58P\n",
    "#191001EIN93T\n",
    "#191001RYR4HP\n",
    "#191001RYR7UJ\n",
    "#191001STK265B\n",
    "#191001STK31Q\n",
    "#191001VLG72LD"
   ]
  },
  {
   "cell_type": "code",
   "execution_count": 11,
   "id": "e5cd91e4",
   "metadata": {},
   "outputs": [
    {
     "name": "stdout",
     "output_type": "stream",
     "text": [
      "      date  hour  number_of_flights  TMA_time_median  TMA_time_mean\n",
      "21  191001    21                 26            8.191           9.81\n"
     ]
    }
   ],
   "source": [
    "max_number_of_flights = vertical_PIs_by_hour_df['number_of_flights'].max()\n",
    "print(vertical_PIs_by_hour_df[vertical_PIs_by_hour_df['number_of_flights']==max_number_of_flights])"
   ]
  },
  {
   "cell_type": "code",
   "execution_count": 14,
   "id": "8adae8aa",
   "metadata": {},
   "outputs": [
    {
     "name": "stdout",
     "output_type": "stream",
     "text": [
      "      date  hour  number_of_flights  TMA_time_median  TMA_time_mean\n",
      "88  191004    16                 24           15.317         15.885\n"
     ]
    }
   ],
   "source": [
    "temp_df = vertical_PIs_by_hour_df[vertical_PIs_by_hour_df['date']==191004]\n",
    "max_number_of_flights = temp_df['number_of_flights'].max()\n",
    "print(temp_df[temp_df['number_of_flights']==max_number_of_flights])"
   ]
  }
 ],
 "metadata": {
  "kernelspec": {
   "display_name": "Python 3",
   "language": "python",
   "name": "python3"
  },
  "language_info": {
   "codemirror_mode": {
    "name": "ipython",
    "version": 3
   },
   "file_extension": ".py",
   "mimetype": "text/x-python",
   "name": "python",
   "nbconvert_exporter": "python",
   "pygments_lexer": "ipython3",
   "version": "3.8.8"
  }
 },
 "nbformat": 4,
 "nbformat_minor": 5
}
