{
 "cells": [
  {
   "cell_type": "code",
   "execution_count": 1,
   "id": "058b6c19",
   "metadata": {},
   "outputs": [],
   "source": [
    "%matplotlib inline\n",
    "\n",
    "import numpy as np\n",
    "import pandas as pd\n",
    "import matplotlib.pyplot as plt\n",
    "import seaborn as sns\n",
    "from math import cos, radians\n",
    "import time"
   ]
  },
  {
   "cell_type": "code",
   "execution_count": 2,
   "id": "82a5cd37",
   "metadata": {},
   "outputs": [],
   "source": [
    "def plot_TMA_EIDW():\n",
    "    \n",
    "    TMA_lon=[-5.5000, -5.5000, -5.5000, -5.5000, -5.5000, -6.6169, -6.8333, -7.3333, -7.3333, -6.7606, -5.5000];\n",
    "\n",
    "    TMA_lat=[53.9167, 53.7672, 53.0975, 52.7594, 52.3333, 52.6139, 52.7594, 53.0908, 53.7522, 54.1619, 53.9167];\n",
    "    \n",
    "    # Runway 10R\n",
    "    rwy10R_lon=[-6.290075, -6.250578];\n",
    "    rwy10R_lat=[53.42243, 53.42026];\n",
    "\n",
    "    # Runway 28L\n",
    "    rwy28L_lon=[-6.250578, -6.290075];\n",
    "    rwy28L_lat=[53.42026, 53.42243];\n",
    "\n",
    "    # Runway 16\n",
    "    rwy16_lon=[-6.261978, -6.249594];\n",
    "    rwy16_lat=[53.43699, 53.41991];\n",
    "\n",
    "    # Runway 34\n",
    "    rwy34_lon=[6.249594, -6.261978];\n",
    "    rwy34_lat=[53.41991, 53.43699];\n",
    "\n",
    "    plt.plot(TMA_lon, TMA_lat, color=\"blue\")\n",
    "    plt.plot(rwy10R_lon, rwy10R_lat, color=\"red\")\n",
    "    plt.plot(rwy16_lon, rwy16_lat, color=\"red\")\n",
    "    \n",
    "    # Entry Points\n",
    "    ABLIN_lon = -4.9925\n",
    "    ABLIN_lat =\t52.7828\n",
    "    BAGSO_lon = -5.5000\n",
    "    BAGSO_lat =\t53.6800\n",
    "    BAMLI_lon = -6.6511\n",
    "    BAMLI_lat =\t54.1412\n",
    "    BOYNE_lon = -5.5000\n",
    "    BOYNE_lat =\t53.7671\n",
    "    BUNED_lon = -6.6301\n",
    "    BUNED_lat =\t52.6228\n",
    "    LIPGO_lon = -5.5000\n",
    "    LIPGO_lat =\t53.0639\n",
    "    NIMAT_lon = -5.7421\n",
    "    NIMAT_lat =\t53.9650\n",
    "    OLAPO_lon = -7.2946\n",
    "    OLAPO_lat =\t53.7803\n",
    "    OSGAR_lon = -7.2702\n",
    "    OSGAR_lat =\t53.0494\n",
    "    SUTEX_lon = -6.9304\n",
    "    SUTEX_lat =\t52.8244\n",
    "    VATRY_lon = -5.5000\n",
    "    VATRY_lat =\t52.5544\n",
    "\n",
    "    plt.plot(ABLIN_lon, ABLIN_lat, 'ro')\n",
    "    plt.plot(BAGSO_lon, BAGSO_lat, 'ro')\n",
    "    plt.plot(BAMLI_lon, BAMLI_lat, 'ro')\n",
    "    plt.plot(BOYNE_lon, BOYNE_lat, 'ro')\n",
    "    plt.plot(BUNED_lon, BUNED_lat, 'ro')\n",
    "    plt.plot(LIPGO_lon, LIPGO_lat, 'ro')\n",
    "    plt.plot(NIMAT_lon, NIMAT_lat, 'ro')\n",
    "    plt.plot(OLAPO_lon, OLAPO_lat, 'ro')\n",
    "    plt.plot(OSGAR_lon, OSGAR_lat, 'ro')\n",
    "    plt.plot(SUTEX_lon, SUTEX_lat, 'ro')\n",
    "    plt.plot(VATRY_lon, VATRY_lat, 'ro')\n",
    "    \n",
    "    rwy28L_around_lon=[-6.2,   -6.2,   -6.35 ,  -6.35, -6.2];\n",
    "    rwy28L_around_lat=[53.37, 53.47, 53.47, 53.37, 53.37];\n",
    "    \n",
    "    plt.plot(rwy28L_around_lon, rwy28L_around_lat)"
   ]
  },
  {
   "cell_type": "code",
   "execution_count": 3,
   "id": "6a12bbd6",
   "metadata": {},
   "outputs": [],
   "source": [
    "def plot_horizontal_profile_EIDW(df, runway, linewidth):\n",
    "    \n",
    "    #plt.figure(figsize=(6,6))\n",
    "    fig, ax = plt.subplots(1, 1,figsize=(10,10))\n",
    "    \n",
    "    central_latitude = 53.25\n",
    "    # calculate the aspect ratio that will approximate a \n",
    "    # Mercator projection at this central latitude \n",
    "    mercator_aspect_ratio = 1/cos(radians(central_latitude))\n",
    "\n",
    "    # set the aspect ratio of the axes to that\n",
    "    ax.set_aspect(mercator_aspect_ratio)\n",
    "\n",
    "    #plt.axes().set_aspect('equal')\n",
    "    \n",
    "    #ax.set_aspect('equal', adjustable='box')\n",
    "    #ax.set_xlim(16,20)\n",
    "    #ax.set_ylim(57.5,61.5)\n",
    "    \n",
    "    plt.xlabel('Longitude', fontsize=25)\n",
    "    plt.ylabel('Latitude', fontsize=25)  \n",
    "    \n",
    "    plt.tick_params(labelsize=15)\n",
    "    \n",
    "    plot_TMA_EIDW()\n",
    "    \n",
    "    if df.empty:\n",
    "        return\n",
    "    \n",
    "    for flight_id, new_df in df.groupby(level='flight_id'):\n",
    "        #print(flight_id)\n",
    "        flight_states_opensky_df = df.loc[(flight_id,), :]\n",
    "        lon = []\n",
    "        lat = []\n",
    "        for seq, row in flight_states_opensky_df.groupby(level='sequence'):\n",
    "        \n",
    "            if row['lon'].item() != 0:\n",
    "                lon.append(row['lon'].item())\n",
    "            if row['lat'].item() != 0:\n",
    "                lat.append(row['lat'].item())\n",
    "            \n",
    "        last_points_lon = lon[-30:]\n",
    "        last_points_lat = lat[-30:]\n",
    "        plt.plot(lon, lat, color='k', linewidth=linewidth)\n",
    "        #plt.plot(last_points_lon, last_points_lat, color='r', linewidth=linewidth)"
   ]
  },
  {
   "cell_type": "code",
   "execution_count": 22,
   "id": "fb875409",
   "metadata": {},
   "outputs": [
    {
     "name": "stdout",
     "output_type": "stream",
     "text": [
      "7763\n",
      "7763\n"
     ]
    }
   ],
   "source": [
    "filename = \"../data/EIDW/2019/osn_EIDW_states_TMA_2019/osn_EIDW_states_TMA_2019_10_week1_by_runways/osn_EIDW_states_TMA_2019_10_week1_rwy28.csv\"\n",
    "week1_rwy28_df = pd.read_csv(filename, sep=' ',\n",
    "                            names = ['flight_id', 'sequence', 'timestamp', 'lat', 'lon', 'rawAltitude', 'altitude', 'velocity', 'date'])\n",
    "week1_rwy28_df.set_index(['flight_id', 'sequence'], inplace = True)\n",
    "num_flights1 = len(week1_rwy28_df.groupby(level='flight_id'))\n",
    "\n",
    "filename = \"../data/EIDW/2019/osn_EIDW_states_TMA_2019/osn_EIDW_states_TMA_2019_10_week2_by_runways/osn_EIDW_states_TMA_2019_10_week2_rwy28.csv\"\n",
    "week2_rwy28_df = pd.read_csv(filename, sep=' ',\n",
    "                            names = ['flight_id', 'sequence', 'timestamp', 'lat', 'lon', 'rawAltitude', 'altitude', 'velocity', 'date'])\n",
    "week2_rwy28_df.set_index(['flight_id', 'sequence'], inplace = True)\n",
    "num_flights2 = len(week2_rwy28_df.groupby(level='flight_id'))\n",
    "\n",
    "filename = \"../data/EIDW/2019/osn_EIDW_states_TMA_2019/osn_EIDW_states_TMA_2019_10_week3_by_runways/osn_EIDW_states_TMA_2019_10_week3_rwy28.csv\"\n",
    "week3_rwy28_df = pd.read_csv(filename, sep=' ',\n",
    "                            names = ['flight_id', 'sequence', 'timestamp', 'lat', 'lon', 'rawAltitude', 'altitude', 'velocity', 'date'])\n",
    "week3_rwy28_df.set_index(['flight_id', 'sequence'], inplace = True)\n",
    "num_flights3 = len(week3_rwy28_df.groupby(level='flight_id'))\n",
    "\n",
    "filename = \"../data/EIDW/2019/osn_EIDW_states_TMA_2019/osn_EIDW_states_TMA_2019_10_week4_by_runways/osn_EIDW_states_TMA_2019_10_week4_rwy28.csv\"\n",
    "week4_rwy28_df = pd.read_csv(filename, sep=' ',\n",
    "                            names = ['flight_id', 'sequence', 'timestamp', 'lat', 'lon', 'rawAltitude', 'altitude', 'velocity', 'date'])\n",
    "week4_rwy28_df.set_index(['flight_id', 'sequence'], inplace = True)\n",
    "num_flights4 = len(week4_rwy28_df.groupby(level='flight_id'))\n",
    "print(num_flights1 + num_flights2 + num_flights3 + num_flights4)\n",
    "\n",
    "frames = [week1_rwy28_df, week2_rwy28_df, week3_rwy28_df, week4_rwy28_df]\n",
    "rwy28_df = pd.concat(frames)\n",
    "num_flights = len(rwy28_df.groupby(level='flight_id'))\n",
    "print(num_flights)"
   ]
  },
  {
   "cell_type": "code",
   "execution_count": 36,
   "id": "54d85dda",
   "metadata": {},
   "outputs": [],
   "source": [
    "filename = \"../data/EIDW/2019/PIs/PIs_vertical_by_hour_2019_10_week1_rwy28.csv\"\n",
    "vertical_PIs_by_hour_week1_rwy28_df = pd.read_csv(filename, sep=' ')\n",
    "vertical_PIs_by_hour_week1_rwy28_df = vertical_PIs_by_hour_week1_rwy28_df[vertical_PIs_by_hour_week1_rwy28_df['date']<191008]\n",
    "\n",
    "filename = \"../data/EIDW/2019/PIs/PIs_vertical_by_hour_2019_10_week2_rwy28.csv\"\n",
    "vertical_PIs_by_hour_week2_rwy28_df = pd.read_csv(filename, sep=' ')\n",
    "vertical_PIs_by_hour_week2_rwy28_df = vertical_PIs_by_hour_week2_rwy28_df[vertical_PIs_by_hour_week2_rwy28_df['date']>191007]\n",
    "vertical_PIs_by_hour_week2_rwy28_df = vertical_PIs_by_hour_week2_rwy28_df[vertical_PIs_by_hour_week2_rwy28_df['date']<191015]\n",
    "\n",
    "filename = \"../data/EIDW/2019/PIs/PIs_vertical_by_hour_2019_10_week3_rwy28.csv\"\n",
    "vertical_PIs_by_hour_week3_rwy28_df = pd.read_csv(filename, sep=' ')\n",
    "vertical_PIs_by_hour_week3_rwy28_df = vertical_PIs_by_hour_week3_rwy28_df[vertical_PIs_by_hour_week3_rwy28_df['date']>191014]\n",
    "vertical_PIs_by_hour_week3_rwy28_df = vertical_PIs_by_hour_week3_rwy28_df[vertical_PIs_by_hour_week3_rwy28_df['date']<191022]\n",
    "\n",
    "filename = \"../data/EIDW/2019/PIs/PIs_vertical_by_hour_2019_10_week4_rwy28.csv\"\n",
    "vertical_PIs_by_hour_week4_rwy28_df = pd.read_csv(filename, sep=' ')\n",
    "vertical_PIs_by_hour_week4_rwy28_df = vertical_PIs_by_hour_week4_rwy28_df[vertical_PIs_by_hour_week4_rwy28_df['date']>191021]\n",
    "vertical_PIs_by_hour_week4_rwy28_df = vertical_PIs_by_hour_week4_rwy28_df[vertical_PIs_by_hour_week4_rwy28_df['date']<191029]\n",
    "\n",
    "frames = [vertical_PIs_by_hour_week1_rwy28_df, vertical_PIs_by_hour_week2_rwy28_df, vertical_PIs_by_hour_week3_rwy28_df, vertical_PIs_by_hour_week4_rwy28_df]\n",
    "vertical_PIs_by_hour_week_rwy28_df = pd.concat(frames)"
   ]
  },
  {
   "cell_type": "code",
   "execution_count": 40,
   "id": "b18ecea6",
   "metadata": {},
   "outputs": [],
   "source": [
    "filename = \"../data/EIDW/2019/PIs/PIs_vertical_by_flight_2019_10_week1_rwy28.csv\"\n",
    "vertical_PIs_by_flight_week1_rwy28_df = pd.read_csv(filename, sep=' ')\n",
    "\n",
    "filename = \"../data/EIDW/2019/PIs/PIs_vertical_by_flight_2019_10_week2_rwy28.csv\"\n",
    "vertical_PIs_by_flight_week2_rwy28_df = pd.read_csv(filename, sep=' ')\n",
    "\n",
    "filename = \"../data/EIDW/2019/PIs/PIs_vertical_by_flight_2019_10_week3_rwy28.csv\"\n",
    "vertical_PIs_by_flight_week3_rwy28_df = pd.read_csv(filename, sep=' ')\n",
    "\n",
    "filename = \"../data/EIDW/2019/PIs/PIs_vertical_by_flight_2019_10_week4_rwy28.csv\"\n",
    "vertical_PIs_by_flight_week4_rwy28_df = pd.read_csv(filename, sep=' ')\n",
    "\n",
    "frames = [vertical_PIs_by_flight_week1_rwy28_df, vertical_PIs_by_flight_week2_rwy28_df, vertical_PIs_by_flight_week3_rwy28_df, vertical_PIs_by_flight_week4_rwy28_df]\n",
    "vertical_PIs_by_flight_rwy28_df = pd.concat(frames)"
   ]
  },
  {
   "cell_type": "code",
   "execution_count": 47,
   "id": "1b5dd40c",
   "metadata": {},
   "outputs": [
    {
     "name": "stdout",
     "output_type": "stream",
     "text": [
      "672\n",
      "12.0838\n",
      "     date  hour  number_of_flights_by_end  number_of_flights_by_start_and_end  \\\n",
      "0  191001     0                       1.0                                 1.0   \n",
      "1  191001     1                       1.0                                 1.0   \n",
      "5  191001     5                       2.0                                 3.0   \n",
      "6  191001     6                      10.0                                13.0   \n",
      "7  191001     7                      19.0                                23.0   \n",
      "\n",
      "   number_of_level_flights  percent_of_level_flights  number_of_levels_total  \\\n",
      "0                        0                       0.0                       0   \n",
      "1                        0                       0.0                       0   \n",
      "5                        0                       0.0                       0   \n",
      "6                        0                       0.0                       0   \n",
      "7                        0                       0.0                       0   \n",
      "\n",
      "   number_of_levels_mean  number_of_levels_median  time_on_levels_total  ...  \\\n",
      "0                      0                        0                     0  ...   \n",
      "1                      0                        0                     0  ...   \n",
      "5                      0                        0                     0  ...   \n",
      "6                      0                        0                     0  ...   \n",
      "7                      0                        0                     0  ...   \n",
      "\n",
      "   time_on_levels_min  time_on_levels_max  TMA_time_mean  TMA_time_median  \\\n",
      "0                   0                   0         13.150           13.150   \n",
      "1                   0                   0         14.333           14.333   \n",
      "5                   0                   0         16.700           16.700   \n",
      "6                   0                   0         12.532            9.983   \n",
      "7                   0                   0         14.557           12.200   \n",
      "\n",
      "   distance_on_levels_total  distance_on_levels_mean  \\\n",
      "0                         0                        0   \n",
      "1                         0                        0   \n",
      "5                         0                        0   \n",
      "6                         0                        0   \n",
      "7                         0                        0   \n",
      "\n",
      "   distance_on_levels_median  cdo_altitude_mean  cdo_altitude_median  \\\n",
      "0                          0                  0                    0   \n",
      "1                          0                  0                    0   \n",
      "5                          0                  0                    0   \n",
      "6                          0                  0                    0   \n",
      "7                          0                  0                    0   \n",
      "\n",
      "   number_of_flights  \n",
      "0                NaN  \n",
      "1                NaN  \n",
      "5                NaN  \n",
      "6                NaN  \n",
      "7                NaN  \n",
      "\n",
      "[5 rows x 22 columns]\n"
     ]
    }
   ],
   "source": [
    "# remove outliers\n",
    "df = vertical_PIs_by_hour_week_rwy28_df\n",
    "print(len(df))\n",
    "p1 = df[\"TMA_time_mean\"].quantile(0.4)\n",
    "df = df.loc[(df['TMA_time_mean'] > p1)]\n",
    "print(p1)\n",
    "print(df.head())"
   ]
  },
  {
   "cell_type": "code",
   "execution_count": 44,
   "id": "e4d8cd64",
   "metadata": {},
   "outputs": [
    {
     "name": "stdout",
     "output_type": "stream",
     "text": [
      "4824\n"
     ]
    }
   ],
   "source": [
    "#print(vertical_PIs_by_flight_rwy28_df.head(1))\n",
    "dataset_ids_df = vertical_PIs_by_flight_rwy28_df[vertical_PIs_by_flight_rwy28_df[\"TMA_time\"]>12]\n",
    "num_flights = len(dataset_ids_df)\n",
    "print(num_flights)"
   ]
  },
  {
   "cell_type": "code",
   "execution_count": 7,
   "id": "63a3d06e",
   "metadata": {},
   "outputs": [],
   "source": [
    "week = 1"
   ]
  },
  {
   "cell_type": "code",
   "execution_count": 8,
   "id": "a4b747da",
   "metadata": {},
   "outputs": [],
   "source": [
    "if week == 1:\n",
    "    PIs_by_hour_df = vertical_PIs_by_hour_week1_rwy28_df\n",
    "    PIs_by_flight_df = vertical_PIs_by_flight_week1_rwy28_df\n",
    "    states_df = week1_rwy28_df\n",
    "elif week == 2:\n",
    "    PIs_by_hour_df = vertical_PIs_by_hour_week2_rwy28_df\n",
    "    PIs_by_flight_df = vertical_PIs_by_flight_week2_rwy28_df\n",
    "    states_df = week2_rwy28_df\n",
    "elif week == 3:\n",
    "    PIs_by_hour_df = vertical_PIs_by_hour_week3_rwy28_df\n",
    "    PIs_by_flight_df = vertical_PIs_by_flight_week3_rwy28_df\n",
    "    states_df = week3_rwy28_df\n",
    "elif week ==4:\n",
    "    PIs_by_hour_df = vertical_PIs_by_hour_week4_rwy28_df\n",
    "    PIs_by_flight_df = vertical_PIs_by_flight_week4_rwy28_df\n",
    "    states_df = week4_rwy28_df"
   ]
  },
  {
   "cell_type": "code",
   "execution_count": 14,
   "id": "034a5fee",
   "metadata": {},
   "outputs": [],
   "source": [
    "def one_scale(ax, index, data1, y_label1, data_min, data_max):\n",
    "\n",
    "    lns = ax.plot(index, data1, color='r')\n",
    "        \n",
    "    ax.legend(lns, [y_label1], loc='best')\n",
    "\n",
    "    ax.set_xlabel('Hours', fontsize=15)\n",
    "    ax.tick_params(axis='x', which='both', labelrotation = 90)\n",
    "    \n",
    "    ax.set_ylim(data_min, data_max)\n",
    "    ax.set_ylabel(y_label1)\n",
    "    \n",
    "    for t in ax.get_yticklabels():\n",
    "        t.set_color('r')\n",
    "        \n",
    "    return ax"
   ]
  },
  {
   "cell_type": "code",
   "execution_count": 17,
   "id": "516b521c",
   "metadata": {},
   "outputs": [
    {
     "data": {
      "image/png": "[encoded data removed]",
      "text/plain": [
       "<Figure size 1080x360 with 1 Axes>"
      ]
     },
     "metadata": {
      "needs_background": "light"
     },
     "output_type": "display_data"
    }
   ],
   "source": [
    "PIs_by_hour_df = PIs_by_hour_df[:168]\n",
    "plt.rcParams[\"figure.figsize\"] = (15,5)\n",
    "data_min = PIs_by_hour_df['TMA_time_mean'].min()\n",
    "data_max = PIs_by_hour_df['TMA_time_mean'].max()\n",
    "\n",
    "ax = plt.subplot(1, 1, 1)\n",
    "ax = one_scale(ax, PIs_by_hour_df.index, PIs_by_hour_df['TMA_time_mean'], 'Average Time in TMA (min)', data_min, data_max)\n",
    "\n",
    "plt.tight_layout()"
   ]
  },
  {
   "cell_type": "code",
   "execution_count": null,
   "id": "c469a2e7",
   "metadata": {},
   "outputs": [],
   "source": [
    "max_TMA_time_mean = PIs_by_hour_df['TMA_time_mean'].max()\n",
    "flight_ids_df = PIs_by_hour_df[PIs_by_hour_df['TMA_time_mean']==max_TMA_time_mean]\n",
    "date = flight_ids_df['date'].to_list()[0]\n",
    "hour = flight_ids_df['hour'].to_list()[0]\n",
    "print(date, hour)\n",
    "flights_df = PIs_by_flight_df[(PIs_by_flight_df['date']==date) & (PIs_by_flight_df['end_hour']==hour)]\n",
    "ids = flights_df['flight_id'].to_list()\n",
    "print(ids)\n",
    "print(len(ids))\n",
    "print(max_TMA_time_mean)\n",
    "flight_df = states_df.loc[ids]"
   ]
  },
  {
   "cell_type": "code",
   "execution_count": null,
   "id": "88b3c385",
   "metadata": {},
   "outputs": [],
   "source": [
    "max_TMA_time_median = PIs_by_hour_df['TMA_time_median'].max()\n",
    "flight_ids_df = PIs_by_hour_df[PIs_by_hour_df['TMA_time_median']==max_TMA_time_median]\n",
    "date = flight_ids_df['date'].to_list()[0]\n",
    "hour = flight_ids_df['hour'].to_list()[0]\n",
    "print(date, hour)\n",
    "flights_df = PIs_by_flight_df[(PIs_by_flight_df['date']==date) & (PIs_by_flight_df['end_hour']==hour)]\n",
    "ids = flights_df['flight_id'].to_list()\n",
    "print(ids)\n",
    "print(len(ids))\n",
    "print(max_TMA_time_median)\n",
    "flight_df = states_df.loc[ids]\n",
    "#plot_horizontal_profile_EIDW(flight_df, \"x\", 2)\n",
    "#for flight_id, flight_id_group in flight_df.groupby(level='flight_id'):\n",
    "#    plot_horizontal_profile_EIDW(flight_id_group, \"x\", 2)"
   ]
  },
  {
   "cell_type": "code",
   "execution_count": null,
   "id": "4cb00ea5",
   "metadata": {},
   "outputs": [],
   "source": [
    "#flight_df = states_df[states_df.index.get_level_values('flight_id') == '191001BAW84DM']\n",
    "#ids = ['191009AAL722', '191009ACA818', '191009BAW84W', '191009BTI6A1', '191009DAL154', '191009DLH1EN', '191009EIN10X', '191009EIN151', '191009EIN2CJ', '191009RYR52FD', '191009RYR5YZ', '191009RYR93SU', '191009STK1K', '191009STK41D']\n",
    "#flight_df = states_df.loc[ids]\n",
    "#plot_horizontal_profile_EIDW(flight_df, \"x\", 2)"
   ]
  },
  {
   "cell_type": "code",
   "execution_count": null,
   "id": "77809133",
   "metadata": {},
   "outputs": [],
   "source": [
    "filename = \"../data/EIDW/2019/Dataset/dataset.csv\"\n",
    "dataset_df = pd.read_csv(filename, sep=' ',\n",
    "                         names = ['flight_id', 'sequence', 'timestamp', 'lat', 'lon', 'rawAltitude', 'altitude', 'velocity', 'date'])\n",
    "dataset_df.set_index(['flight_id', 'sequence'], inplace = True)\n"
   ]
  },
  {
   "cell_type": "code",
   "execution_count": null,
   "id": "6b458836",
   "metadata": {},
   "outputs": [],
   "source": [
    "start_time = time.time()\n",
    "filename = \"../data/EIDW/2019/osn_EIDW_states_TMA_2019/osn_EIDW_states_TMA_2019_10.csv\"\n",
    "states_df = pd.read_csv(filename, sep=' ',\n",
    "                         names = ['flight_id', 'sequence', 'timestamp', 'lat', 'lon', 'rawAltitude', 'altitude', 'velocity', 'date'])\n",
    "states_df.set_index(['flight_id', 'sequence'], inplace = True)\n",
    "flight_id_num = len(states_df.groupby(level='flight_id'))\n",
    "print(flight_id_num)\n",
    "print(\"--- %s minutes ---\" % ((time.time() - start_time)/60))"
   ]
  },
  {
   "cell_type": "code",
   "execution_count": null,
   "id": "39630b83",
   "metadata": {},
   "outputs": [],
   "source": [
    "start_time = time.time()\n",
    "filename = \"../data/EIDW/2019/Dataset/dataset.csv\"\n",
    "dataset_df = pd.read_csv(filename, sep=' ',\n",
    "                         names = ['flight_id', 'sequence', 'timestamp', 'lat', 'lon', 'rawAltitude', 'altitude', 'velocity', 'date'])\n",
    "dataset_df.set_index(['flight_id', 'sequence'], inplace = True)\n",
    "\n",
    "#plot_horizontal_profile_EIDW(dataset_df, \"x\", 2)\n",
    "print(\"--- %s minutes ---\" % ((time.time() - start_time)/60))"
   ]
  },
  {
   "cell_type": "code",
   "execution_count": null,
   "id": "0c5200c1",
   "metadata": {},
   "outputs": [],
   "source": [
    "flight_id_num = len(dataset_df.groupby(level='flight_id'))\n",
    "print(flight_id_num)"
   ]
  }
 ],
 "metadata": {
  "kernelspec": {
   "display_name": "Python 3",
   "language": "python",
   "name": "python3"
  },
  "language_info": {
   "codemirror_mode": {
    "name": "ipython",
    "version": 3
   },
   "file_extension": ".py",
   "mimetype": "text/x-python",
   "name": "python",
   "nbconvert_exporter": "python",
   "pygments_lexer": "ipython3",
   "version": "3.8.8"
  }
 },
 "nbformat": 4,
 "nbformat_minor": 5
}
