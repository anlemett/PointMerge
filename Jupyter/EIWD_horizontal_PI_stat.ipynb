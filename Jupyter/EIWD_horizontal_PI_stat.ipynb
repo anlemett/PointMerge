{
 "cells": [
  {
   "cell_type": "code",
   "execution_count": 1,
   "metadata": {},
   "outputs": [],
   "source": [
    "%matplotlib inline\n",
    "\n",
    "import numpy as np\n",
    "import pandas as pd"
   ]
  },
  {
   "cell_type": "markdown",
   "metadata": {},
   "source": [
    "# Data uploading"
   ]
  },
  {
   "cell_type": "code",
   "execution_count": 2,
   "metadata": {},
   "outputs": [
    {
     "name": "stdout",
     "output_type": "stream",
     "text": [
      "4173\n"
     ]
    }
   ],
   "source": [
    "filename = \"../data/EIDW/2019/PIs/PIs_horizontal_by_flight_dataset.csv\"\n",
    "horizontal_PIs_by_flight_df = pd.read_csv(filename, sep=' ')\n",
    "horizontal_PIs_by_flight_df.set_index(['flight_id'], inplace=True)\n",
    "number_of_flights = len(horizontal_PIs_by_flight_df)\n",
    "print(number_of_flights)"
   ]
  },
  {
   "cell_type": "code",
   "execution_count": 3,
   "metadata": {},
   "outputs": [],
   "source": [
    "# \"NIMAT\", \"BOYNE\", \"BAGSO\", \"LIPGO\", \"ABLIN\", \"VATRY\", \"BAMLI\", \"OLAPO\", \"OSGAR\", \"SUTEX\", \"BUNED\""
   ]
  },
  {
   "cell_type": "code",
   "execution_count": 4,
   "metadata": {},
   "outputs": [
    {
     "name": "stdout",
     "output_type": "stream",
     "text": [
      "42055.80192982456 39567.091 5745.425 111861.47 57\n"
     ]
    }
   ],
   "source": [
    "temp_df = horizontal_PIs_by_flight_df[horizontal_PIs_by_flight_df[\"entry_point\"]==\"ABLIN\"]\n",
    "add_distances = temp_df[\"TMA_additional_distance\"]\n",
    "min_add_distance = min(add_distances)\n",
    "max_add_distance = max(add_distances)\n",
    "mean_add_distance = np.mean(add_distances)\n",
    "median_add_distance = np.median(add_distances)\n",
    "number_of_flights = len(temp_df)\n",
    "print(mean_add_distance, median_add_distance, min_add_distance, max_add_distance, number_of_flights)"
   ]
  },
  {
   "cell_type": "code",
   "execution_count": 15,
   "metadata": {},
   "outputs": [
    {
     "name": "stdout",
     "output_type": "stream",
     "text": [
      "                date  hour entry_point runway  reference_distance  \\\n",
      "flight_id                                                           \n",
      "191016RYR293  191016    20       BAGSO    28L             79636.0   \n",
      "\n",
      "              TMA_distance  TMA_additional_distance  \n",
      "flight_id                                            \n",
      "191016RYR293     60508.322               -19127.678  \n",
      "22579.145204737724 12797.883 -19127.678 248150.599 1182\n"
     ]
    }
   ],
   "source": [
    "temp_df = horizontal_PIs_by_flight_df[horizontal_PIs_by_flight_df[\"entry_point\"]==\"BAGSO\"]\n",
    "add_distances = temp_df[\"TMA_additional_distance\"]\n",
    "min_add_distance = min(add_distances)\n",
    "min_df = temp_df[temp_df[\"TMA_additional_distance\"]==min_add_distance]\n",
    "print(min_df)\n",
    "max_add_distance = max(add_distances)\n",
    "mean_add_distance = np.mean(add_distances)\n",
    "median_add_distance = np.median(add_distances)\n",
    "number_of_flights = len(temp_df)\n",
    "print(mean_add_distance, median_add_distance, min_add_distance, max_add_distance, number_of_flights)"
   ]
  },
  {
   "cell_type": "code",
   "execution_count": 16,
   "metadata": {},
   "outputs": [
    {
     "name": "stdout",
     "output_type": "stream",
     "text": [
      "                date  hour entry_point runway  reference_distance  \\\n",
      "flight_id                                                           \n",
      "191025AFR348  191025    19       BAMLI    28L            151864.0   \n",
      "\n",
      "              TMA_distance  TMA_additional_distance  \n",
      "flight_id                                            \n",
      "191025AFR348      106313.1                 -45550.9  \n",
      "9801.36340909091 7397.452 -45550.9 74846.916 22\n"
     ]
    }
   ],
   "source": [
    "temp_df = horizontal_PIs_by_flight_df[horizontal_PIs_by_flight_df[\"entry_point\"]==\"BAMLI\"]\n",
    "add_distances = temp_df[\"TMA_additional_distance\"]\n",
    "min_add_distance = min(add_distances)\n",
    "min_df = temp_df[temp_df[\"TMA_additional_distance\"]==min_add_distance]\n",
    "print(min_df)\n",
    "max_add_distance = max(add_distances)\n",
    "mean_add_distance = np.mean(add_distances)\n",
    "median_add_distance = np.median(add_distances)\n",
    "number_of_flights = len(temp_df)\n",
    "print(mean_add_distance, median_add_distance, min_add_distance, max_add_distance, number_of_flights)"
   ]
  },
  {
   "cell_type": "code",
   "execution_count": 17,
   "metadata": {},
   "outputs": [
    {
     "name": "stdout",
     "output_type": "stream",
     "text": [
      "                date  hour entry_point runway  reference_distance  \\\n",
      "flight_id                                                           \n",
      "191011EWG3RS  191011    10       BOYNE    28L             97970.8   \n",
      "\n",
      "              TMA_distance  TMA_additional_distance  \n",
      "flight_id                                            \n",
      "191011EWG3RS     69581.656               -28389.144  \n",
      "12073.240075342452 10112.7155 -28389.144 78587.531 292\n"
     ]
    }
   ],
   "source": [
    "temp_df = horizontal_PIs_by_flight_df[horizontal_PIs_by_flight_df[\"entry_point\"]==\"BOYNE\"]\n",
    "add_distances = temp_df[\"TMA_additional_distance\"]\n",
    "min_add_distance = min(add_distances)\n",
    "min_df = temp_df[temp_df[\"TMA_additional_distance\"]==min_add_distance]\n",
    "print(min_df)\n",
    "max_add_distance = max(add_distances)\n",
    "mean_add_distance = np.mean(add_distances)\n",
    "median_add_distance = np.median(add_distances)\n",
    "number_of_flights = len(temp_df)\n",
    "print(mean_add_distance, median_add_distance, min_add_distance, max_add_distance, number_of_flights)"
   ]
  },
  {
   "cell_type": "code",
   "execution_count": 18,
   "metadata": {},
   "outputs": [
    {
     "name": "stdout",
     "output_type": "stream",
     "text": [
      "                date  hour entry_point runway  reference_distance  \\\n",
      "flight_id                                                           \n",
      "191006RYR9YR  191006    22       BUNED    28L            172236.0   \n",
      "\n",
      "              TMA_distance  TMA_additional_distance  \n",
      "flight_id                                            \n",
      "191006RYR9YR    146078.865               -26157.135  \n",
      "28431.949039603962 21271.305 -26157.135 126292.14 101\n"
     ]
    }
   ],
   "source": [
    "temp_df = horizontal_PIs_by_flight_df[horizontal_PIs_by_flight_df[\"entry_point\"]==\"BUNED\"]\n",
    "add_distances = temp_df[\"TMA_additional_distance\"]\n",
    "min_add_distance = min(add_distances)\n",
    "min_df = temp_df[temp_df[\"TMA_additional_distance\"]==min_add_distance]\n",
    "print(min_df)\n",
    "max_add_distance = max(add_distances)\n",
    "mean_add_distance = np.mean(add_distances)\n",
    "median_add_distance = np.median(add_distances)\n",
    "number_of_flights = len(temp_df)\n",
    "print(mean_add_distance, median_add_distance, min_add_distance, max_add_distance, number_of_flights)"
   ]
  },
  {
   "cell_type": "code",
   "execution_count": 19,
   "metadata": {},
   "outputs": [
    {
     "name": "stdout",
     "output_type": "stream",
     "text": [
      "                date  hour entry_point runway  reference_distance  \\\n",
      "flight_id                                                           \n",
      "191014EIN529  191014    22       LIPGO    28L             70376.0   \n",
      "\n",
      "              TMA_distance  TMA_additional_distance  \n",
      "flight_id                                            \n",
      "191014EIN529     60812.103                -9563.897  \n",
      "6403.689158940406 -1081.7820000000002 -9563.897 191867.445 906\n"
     ]
    }
   ],
   "source": [
    "temp_df = horizontal_PIs_by_flight_df[horizontal_PIs_by_flight_df[\"entry_point\"]==\"LIPGO\"]\n",
    "add_distances = temp_df[\"TMA_additional_distance\"]\n",
    "min_add_distance = min(add_distances)\n",
    "min_df = temp_df[temp_df[\"TMA_additional_distance\"]==min_add_distance]\n",
    "print(min_df)\n",
    "max_add_distance = max(add_distances)\n",
    "mean_add_distance = np.mean(add_distances)\n",
    "median_add_distance = np.median(add_distances)\n",
    "number_of_flights = len(temp_df)\n",
    "print(mean_add_distance, median_add_distance, min_add_distance, max_add_distance, number_of_flights)"
   ]
  },
  {
   "cell_type": "code",
   "execution_count": 20,
   "metadata": {},
   "outputs": [
    {
     "name": "stdout",
     "output_type": "stream",
     "text": [
      "                 date  hour entry_point runway  reference_distance  \\\n",
      "flight_id                                                            \n",
      "191025RYR42EB  191025    23       NIMAT    28L             96304.0   \n",
      "\n",
      "               TMA_distance  TMA_additional_distance  \n",
      "flight_id                                             \n",
      "191025RYR42EB     79097.682               -17206.318  \n",
      "12598.16247966101 4481.1245 -17206.318 210372.354 590\n"
     ]
    }
   ],
   "source": [
    "temp_df = horizontal_PIs_by_flight_df[horizontal_PIs_by_flight_df[\"entry_point\"]==\"NIMAT\"]\n",
    "add_distances = temp_df[\"TMA_additional_distance\"]\n",
    "min_add_distance = min(add_distances)\n",
    "min_df = temp_df[temp_df[\"TMA_additional_distance\"]==min_add_distance]\n",
    "print(min_df)\n",
    "max_add_distance = max(add_distances)\n",
    "mean_add_distance = np.mean(add_distances)\n",
    "median_add_distance = np.median(add_distances)\n",
    "number_of_flights = len(temp_df)\n",
    "print(mean_add_distance, median_add_distance, min_add_distance, max_add_distance, number_of_flights)"
   ]
  },
  {
   "cell_type": "code",
   "execution_count": 21,
   "metadata": {},
   "outputs": [
    {
     "name": "stdout",
     "output_type": "stream",
     "text": [
      "               date  hour entry_point runway  reference_distance  \\\n",
      "flight_id                                                          \n",
      "191002WJA50  191002     6       OLAPO    28L            161124.0   \n",
      "\n",
      "             TMA_distance  TMA_additional_distance  \n",
      "flight_id                                           \n",
      "191002WJA50    149547.289               -11576.711  \n",
      "22355.251780898863 18289.0415 -11576.711 142809.252 178\n"
     ]
    }
   ],
   "source": [
    "temp_df = horizontal_PIs_by_flight_df[horizontal_PIs_by_flight_df[\"entry_point\"]==\"OLAPO\"]\n",
    "add_distances = temp_df[\"TMA_additional_distance\"]\n",
    "min_add_distance = min(add_distances)\n",
    "min_df = temp_df[temp_df[\"TMA_additional_distance\"]==min_add_distance]\n",
    "print(min_df)\n",
    "max_add_distance = max(add_distances)\n",
    "mean_add_distance = np.mean(add_distances)\n",
    "median_add_distance = np.median(add_distances)\n",
    "number_of_flights = len(temp_df)\n",
    "print(mean_add_distance, median_add_distance, min_add_distance, max_add_distance, number_of_flights)"
   ]
  },
  {
   "cell_type": "code",
   "execution_count": 22,
   "metadata": {},
   "outputs": [
    {
     "name": "stdout",
     "output_type": "stream",
     "text": [
      "               date  hour entry_point runway  reference_distance  \\\n",
      "flight_id                                                          \n",
      "191016STK1K  191016     7       OSGAR    28L            170384.0   \n",
      "\n",
      "             TMA_distance  TMA_additional_distance  \n",
      "flight_id                                           \n",
      "191016STK1K    166898.356                -3485.644  \n",
      "25558.039237113397 16325.476 -3485.644 163780.62 97\n"
     ]
    }
   ],
   "source": [
    "temp_df = horizontal_PIs_by_flight_df[horizontal_PIs_by_flight_df[\"entry_point\"]==\"OSGAR\"]\n",
    "add_distances = temp_df[\"TMA_additional_distance\"]\n",
    "min_add_distance = min(add_distances)\n",
    "min_df = temp_df[temp_df[\"TMA_additional_distance\"]==min_add_distance]\n",
    "print(min_df)\n",
    "max_add_distance = max(add_distances)\n",
    "mean_add_distance = np.mean(add_distances)\n",
    "median_add_distance = np.median(add_distances)\n",
    "number_of_flights = len(temp_df)\n",
    "print(mean_add_distance, median_add_distance, min_add_distance, max_add_distance, number_of_flights)"
   ]
  },
  {
   "cell_type": "code",
   "execution_count": 23,
   "metadata": {},
   "outputs": [
    {
     "name": "stdout",
     "output_type": "stream",
     "text": [
      "                 date  hour entry_point runway  reference_distance  \\\n",
      "flight_id                                                            \n",
      "191007TAP1322  191007     9       SUTEX    28L            157420.0   \n",
      "\n",
      "               TMA_distance  TMA_additional_distance  \n",
      "flight_id                                             \n",
      "191007TAP1322    152679.894                -4740.106  \n",
      "27381.213298969073 20823.464 -4740.106 103740.442 97\n"
     ]
    }
   ],
   "source": [
    "temp_df = horizontal_PIs_by_flight_df[horizontal_PIs_by_flight_df[\"entry_point\"]==\"SUTEX\"]\n",
    "add_distances = temp_df[\"TMA_additional_distance\"]\n",
    "min_add_distance = min(add_distances)\n",
    "min_df = temp_df[temp_df[\"TMA_additional_distance\"]==min_add_distance]\n",
    "print(min_df)\n",
    "max_add_distance = max(add_distances)\n",
    "mean_add_distance = np.mean(add_distances)\n",
    "median_add_distance = np.median(add_distances)\n",
    "number_of_flights = len(temp_df)\n",
    "print(mean_add_distance, median_add_distance, min_add_distance, max_add_distance, number_of_flights)"
   ]
  },
  {
   "cell_type": "code",
   "execution_count": 24,
   "metadata": {},
   "outputs": [
    {
     "name": "stdout",
     "output_type": "stream",
     "text": [
      "                 date  hour entry_point runway  reference_distance  \\\n",
      "flight_id                                                            \n",
      "191017STK81DR  191017     8       VATRY    28L            133344.0   \n",
      "\n",
      "               TMA_distance  TMA_additional_distance  \n",
      "flight_id                                             \n",
      "191017STK81DR    105181.953               -28162.047  \n",
      "30364.739837173543 20803.897 -28162.047 339402.768 651\n"
     ]
    }
   ],
   "source": [
    "temp_df = horizontal_PIs_by_flight_df[horizontal_PIs_by_flight_df[\"entry_point\"]==\"VATRY\"]\n",
    "add_distances = temp_df[\"TMA_additional_distance\"]\n",
    "min_add_distance = min(add_distances)\n",
    "min_df = temp_df[temp_df[\"TMA_additional_distance\"]==min_add_distance]\n",
    "print(min_df)\n",
    "max_add_distance = max(add_distances)\n",
    "mean_add_distance = np.mean(add_distances)\n",
    "median_add_distance = np.median(add_distances)\n",
    "number_of_flights = len(temp_df)\n",
    "print(mean_add_distance, median_add_distance, min_add_distance, max_add_distance, number_of_flights)"
   ]
  }
 ],
 "metadata": {
  "kernelspec": {
   "display_name": "Python 3",
   "language": "python",
   "name": "python3"
  },
  "language_info": {
   "codemirror_mode": {
    "name": "ipython",
    "version": 3
   },
   "file_extension": ".py",
   "mimetype": "text/x-python",
   "name": "python",
   "nbconvert_exporter": "python",
   "pygments_lexer": "ipython3",
   "version": "3.8.8"
  }
 },
 "nbformat": 4,
 "nbformat_minor": 2
}
