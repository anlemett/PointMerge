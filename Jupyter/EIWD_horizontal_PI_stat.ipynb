{
 "cells": [
  {
   "cell_type": "code",
   "execution_count": 1,
   "metadata": {},
   "outputs": [],
   "source": [
    "%matplotlib inline\n",
    "\n",
    "import numpy as np\n",
    "import pandas as pd"
   ]
  },
  {
   "cell_type": "markdown",
   "metadata": {},
   "source": [
    "# Data uploading"
   ]
  },
  {
   "cell_type": "code",
   "execution_count": 2,
   "metadata": {},
   "outputs": [
    {
     "name": "stdout",
     "output_type": "stream",
     "text": [
      "2843\n"
     ]
    }
   ],
   "source": [
    "filename = \"../data/EIDW/2019/PIs/PIs_horizontal_by_flight_dataset.csv\"\n",
    "horizontal_PIs_by_flight_df = pd.read_csv(filename, sep=' ')\n",
    "horizontal_PIs_by_flight_df.set_index(['flight_id'], inplace=True)\n",
    "\n",
    "number_of_flights = len(horizontal_PIs_by_flight_df)\n",
    "print(number_of_flights)"
   ]
  },
  {
   "cell_type": "code",
   "execution_count": 3,
   "metadata": {},
   "outputs": [],
   "source": [
    "# \"NIMAT\", \"BOYNE\", \"BAGSO\", \"LIPGO\", \"ABLIN\", \"VATRY\", \"BAMLI\", \"OLAPO\", \"OSGAR\", \"SUTEX\", \"BUNED\""
   ]
  },
  {
   "cell_type": "markdown",
   "metadata": {},
   "source": [
    "temp_df = horizontal_PIs_by_flight_df[horizontal_PIs_by_flight_df[\"entry_point\"]==\"ABLIN\"]\n",
    "add_distances = temp_df[\"TMA_additional_distance\"]\n",
    "min_add_distance = min(add_distances)\n",
    "#min_df = temp_df[temp_df[\"TMA_additional_distance\"]==min_add_distance]\n",
    "#print(min_df)\n",
    "max_add_distance = max(add_distances)\n",
    "max_df = temp_df[temp_df[\"TMA_additional_distance\"]==max_add_distance]\n",
    "print(max_df)\n",
    "mean_add_distance = np.mean(add_distances)\n",
    "median_add_distance = np.median(add_distances)\n",
    "number_of_flights = len(temp_df)\n",
    "print(mean_add_distance, median_add_distance, min_add_distance, max_add_distance, number_of_flights)"
   ]
  },
  {
   "cell_type": "code",
   "execution_count": 4,
   "metadata": {},
   "outputs": [
    {
     "name": "stdout",
     "output_type": "stream",
     "text": [
      "                date  hour entry_point runway  reference_distance  \\\n",
      "flight_id                                                           \n",
      "191024DLH9PX  191024     9       BAGSO    28L             79636.0   \n",
      "\n",
      "              TMA_distance  TMA_additional_distance  \n",
      "flight_id                                            \n",
      "191024DLH9PX     73503.354                -6132.646  \n",
      "                date  hour entry_point runway  reference_distance  \\\n",
      "flight_id                                                           \n",
      "191024EIN65W  191024    12       BAGSO    28L             79636.0   \n",
      "\n",
      "              TMA_distance  TMA_additional_distance  \n",
      "flight_id                                            \n",
      "191024EIN65W    327786.599               248150.599  \n",
      "34342.37136807818 23384.9495 -6132.646 248150.599 614\n"
     ]
    }
   ],
   "source": [
    "temp_df = horizontal_PIs_by_flight_df[horizontal_PIs_by_flight_df[\"entry_point\"]==\"BAGSO\"]\n",
    "add_distances = temp_df[\"TMA_additional_distance\"]\n",
    "min_add_distance = min(add_distances)\n",
    "min_df = temp_df[temp_df[\"TMA_additional_distance\"]==min_add_distance]\n",
    "print(min_df)\n",
    "max_add_distance = max(add_distances)\n",
    "max_df = temp_df[temp_df[\"TMA_additional_distance\"]==max_add_distance]\n",
    "print(max_df)\n",
    "mean_add_distance = np.mean(add_distances)\n",
    "median_add_distance = np.median(add_distances)\n",
    "number_of_flights = len(temp_df)\n",
    "print(mean_add_distance, median_add_distance, min_add_distance, max_add_distance, number_of_flights)"
   ]
  },
  {
   "cell_type": "code",
   "execution_count": 5,
   "metadata": {},
   "outputs": [
    {
     "name": "stdout",
     "output_type": "stream",
     "text": [
      "                date  hour entry_point runway  reference_distance  \\\n",
      "flight_id                                                           \n",
      "191008STK41D  191008     7       BAMLI    28L            151864.0   \n",
      "\n",
      "              TMA_distance  TMA_additional_distance  \n",
      "flight_id                                            \n",
      "191008STK41D    151158.155                 -705.845  \n",
      "                date  hour entry_point runway  reference_distance  \\\n",
      "flight_id                                                           \n",
      "191009STK41D  191009     7       BAMLI    28L            151864.0   \n",
      "\n",
      "              TMA_distance  TMA_additional_distance  \n",
      "flight_id                                            \n",
      "191009STK41D    226710.916                74846.916  \n",
      "31592.867600000005 22672.230499999998 -705.845 74846.916 10\n"
     ]
    }
   ],
   "source": [
    "temp_df = horizontal_PIs_by_flight_df[horizontal_PIs_by_flight_df[\"entry_point\"]==\"BAMLI\"]\n",
    "add_distances = temp_df[\"TMA_additional_distance\"]\n",
    "min_add_distance = min(add_distances)\n",
    "min_df = temp_df[temp_df[\"TMA_additional_distance\"]==min_add_distance]\n",
    "print(min_df)\n",
    "max_add_distance = max(add_distances)\n",
    "max_df = temp_df[temp_df[\"TMA_additional_distance\"]==max_add_distance]\n",
    "print(max_df)\n",
    "mean_add_distance = np.mean(add_distances)\n",
    "median_add_distance = np.median(add_distances)\n",
    "number_of_flights = len(temp_df)\n",
    "print(mean_add_distance, median_add_distance, min_add_distance, max_add_distance, number_of_flights)"
   ]
  },
  {
   "cell_type": "code",
   "execution_count": 6,
   "metadata": {},
   "outputs": [
    {
     "name": "stdout",
     "output_type": "stream",
     "text": [
      "                date  hour entry_point runway  reference_distance  \\\n",
      "flight_id                                                           \n",
      "191005RYR3NL  191005    19       BOYNE    28L             97970.8   \n",
      "\n",
      "              TMA_distance  TMA_additional_distance  \n",
      "flight_id                                            \n",
      "191005RYR3NL     80160.498               -17810.302  \n",
      "                date  hour entry_point runway  reference_distance  \\\n",
      "flight_id                                                           \n",
      "191004STK1NC  191004    11       BOYNE    28L             97970.8   \n",
      "\n",
      "              TMA_distance  TMA_additional_distance  \n",
      "flight_id                                            \n",
      "191004STK1NC    176558.331                78587.531  \n",
      "18026.11438392856 14681.2265 -17810.302 78587.531 224\n"
     ]
    }
   ],
   "source": [
    "temp_df = horizontal_PIs_by_flight_df[horizontal_PIs_by_flight_df[\"entry_point\"]==\"BOYNE\"]\n",
    "add_distances = temp_df[\"TMA_additional_distance\"]\n",
    "min_add_distance = min(add_distances)\n",
    "min_df = temp_df[temp_df[\"TMA_additional_distance\"]==min_add_distance]\n",
    "print(min_df)\n",
    "max_add_distance = max(add_distances)\n",
    "max_df = temp_df[temp_df[\"TMA_additional_distance\"]==max_add_distance]\n",
    "print(max_df)\n",
    "mean_add_distance = np.mean(add_distances)\n",
    "median_add_distance = np.median(add_distances)\n",
    "number_of_flights = len(temp_df)\n",
    "print(mean_add_distance, median_add_distance, min_add_distance, max_add_distance, number_of_flights)"
   ]
  },
  {
   "cell_type": "code",
   "execution_count": 7,
   "metadata": {},
   "outputs": [
    {
     "name": "stdout",
     "output_type": "stream",
     "text": [
      "                date  hour entry_point runway  reference_distance  \\\n",
      "flight_id                                                           \n",
      "191006RYR9YR  191006    22       BUNED    28L            172236.0   \n",
      "\n",
      "              TMA_distance  TMA_additional_distance  \n",
      "flight_id                                            \n",
      "191006RYR9YR    146078.865               -26157.135  \n",
      "                 date  hour entry_point runway  reference_distance  \\\n",
      "flight_id                                                            \n",
      "191004RYR65TB  191004    11       BUNED    28L            172236.0   \n",
      "\n",
      "               TMA_distance  TMA_additional_distance  \n",
      "flight_id                                             \n",
      "191004RYR65TB     298528.14                126292.14  \n",
      "29756.528195876293 23410.22 -26157.135 126292.14 97\n"
     ]
    }
   ],
   "source": [
    "temp_df = horizontal_PIs_by_flight_df[horizontal_PIs_by_flight_df[\"entry_point\"]==\"BUNED\"]\n",
    "add_distances = temp_df[\"TMA_additional_distance\"]\n",
    "min_add_distance = min(add_distances)\n",
    "min_df = temp_df[temp_df[\"TMA_additional_distance\"]==min_add_distance]\n",
    "print(min_df)\n",
    "max_add_distance = max(add_distances)\n",
    "max_df = temp_df[temp_df[\"TMA_additional_distance\"]==max_add_distance]\n",
    "print(max_df)\n",
    "mean_add_distance = np.mean(add_distances)\n",
    "median_add_distance = np.median(add_distances)\n",
    "number_of_flights = len(temp_df)\n",
    "print(mean_add_distance, median_add_distance, min_add_distance, max_add_distance, number_of_flights)"
   ]
  },
  {
   "cell_type": "code",
   "execution_count": 8,
   "metadata": {},
   "outputs": [
    {
     "name": "stdout",
     "output_type": "stream",
     "text": [
      "                date  hour entry_point runway  reference_distance  \\\n",
      "flight_id                                                           \n",
      "191011SAS99K  191011    11       NIMAT    28L             96304.0   \n",
      "\n",
      "              TMA_distance  TMA_additional_distance  \n",
      "flight_id                                            \n",
      "191011SAS99K      91927.08                 -4376.92  \n",
      "                date  hour entry_point runway  reference_distance  \\\n",
      "flight_id                                                           \n",
      "191024NAX2NU  191024    12       NIMAT    28L             96304.0   \n",
      "\n",
      "              TMA_distance  TMA_additional_distance  \n",
      "flight_id                                            \n",
      "191024NAX2NU    306676.354               210372.354  \n",
      "28900.425247524738 20366.785 -4376.92 210372.354 303\n"
     ]
    }
   ],
   "source": [
    "temp_df = horizontal_PIs_by_flight_df[horizontal_PIs_by_flight_df[\"entry_point\"]==\"NIMAT\"]\n",
    "add_distances = temp_df[\"TMA_additional_distance\"]\n",
    "min_add_distance = min(add_distances)\n",
    "min_df = temp_df[temp_df[\"TMA_additional_distance\"]==min_add_distance]\n",
    "print(min_df)\n",
    "max_add_distance = max(add_distances)\n",
    "max_df = temp_df[temp_df[\"TMA_additional_distance\"]==max_add_distance]\n",
    "print(max_df)\n",
    "mean_add_distance = np.mean(add_distances)\n",
    "median_add_distance = np.median(add_distances)\n",
    "number_of_flights = len(temp_df)\n",
    "print(mean_add_distance, median_add_distance, min_add_distance, max_add_distance, number_of_flights)"
   ]
  },
  {
   "cell_type": "code",
   "execution_count": 9,
   "metadata": {},
   "outputs": [
    {
     "name": "stdout",
     "output_type": "stream",
     "text": [
      "                 date  hour entry_point runway  reference_distance  \\\n",
      "flight_id                                                            \n",
      "191004BBD6809  191004    15       OLAPO    28L            161124.0   \n",
      "\n",
      "               TMA_distance  TMA_additional_distance  \n",
      "flight_id                                             \n",
      "191004BBD6809    160073.892                -1050.108  \n",
      "                date  hour entry_point runway  reference_distance  \\\n",
      "flight_id                                                           \n",
      "191024EIN142  191024    11       OLAPO    28L            161124.0   \n",
      "\n",
      "              TMA_distance  TMA_additional_distance  \n",
      "flight_id                                            \n",
      "191024EIN142    303933.252               142809.252  \n",
      "28520.141372262762 23024.191 -1050.108 142809.252 137\n"
     ]
    }
   ],
   "source": [
    "temp_df = horizontal_PIs_by_flight_df[horizontal_PIs_by_flight_df[\"entry_point\"]==\"OLAPO\"]\n",
    "add_distances = temp_df[\"TMA_additional_distance\"]\n",
    "min_add_distance = min(add_distances)\n",
    "min_df = temp_df[temp_df[\"TMA_additional_distance\"]==min_add_distance]\n",
    "print(min_df)\n",
    "max_add_distance = max(add_distances)\n",
    "max_df = temp_df[temp_df[\"TMA_additional_distance\"]==max_add_distance]\n",
    "print(max_df)\n",
    "mean_add_distance = np.mean(add_distances)\n",
    "median_add_distance = np.median(add_distances)\n",
    "number_of_flights = len(temp_df)\n",
    "print(mean_add_distance, median_add_distance, min_add_distance, max_add_distance, number_of_flights)"
   ]
  },
  {
   "cell_type": "code",
   "execution_count": 10,
   "metadata": {},
   "outputs": [
    {
     "name": "stdout",
     "output_type": "stream",
     "text": [
      "               date  hour entry_point runway  reference_distance  \\\n",
      "flight_id                                                          \n",
      "191016STK1K  191016     7       OSGAR    28L            170384.0   \n",
      "\n",
      "             TMA_distance  TMA_additional_distance  \n",
      "flight_id                                           \n",
      "191016STK1K    166898.356                -3485.644  \n",
      "                date  hour entry_point runway  reference_distance  \\\n",
      "flight_id                                                           \n",
      "191009EIN10X  191009     7       OSGAR    28L            170384.0   \n",
      "\n",
      "              TMA_distance  TMA_additional_distance  \n",
      "flight_id                                            \n",
      "191009EIN10X     334164.62                163780.62  \n",
      "26860.595344444442 17738.076500000003 -3485.644 163780.62 90\n"
     ]
    }
   ],
   "source": [
    "temp_df = horizontal_PIs_by_flight_df[horizontal_PIs_by_flight_df[\"entry_point\"]==\"OSGAR\"]\n",
    "add_distances = temp_df[\"TMA_additional_distance\"]\n",
    "min_add_distance = min(add_distances)\n",
    "min_df = temp_df[temp_df[\"TMA_additional_distance\"]==min_add_distance]\n",
    "print(min_df)\n",
    "max_add_distance = max(add_distances)\n",
    "max_df = temp_df[temp_df[\"TMA_additional_distance\"]==max_add_distance]\n",
    "print(max_df)\n",
    "mean_add_distance = np.mean(add_distances)\n",
    "median_add_distance = np.median(add_distances)\n",
    "number_of_flights = len(temp_df)\n",
    "print(mean_add_distance, median_add_distance, min_add_distance, max_add_distance, number_of_flights)"
   ]
  },
  {
   "cell_type": "code",
   "execution_count": 11,
   "metadata": {},
   "outputs": [
    {
     "name": "stdout",
     "output_type": "stream",
     "text": [
      "                date  hour entry_point runway  reference_distance  \\\n",
      "flight_id                                                           \n",
      "191006EIN573  191006    12       SUTEX    28L            157420.0   \n",
      "\n",
      "              TMA_distance  TMA_additional_distance  \n",
      "flight_id                                            \n",
      "191006EIN573    154415.491                -3004.509  \n",
      "                date  hour entry_point runway  reference_distance  \\\n",
      "flight_id                                                           \n",
      "191001UAL126  191001     9       SUTEX    28L            157420.0   \n",
      "\n",
      "              TMA_distance  TMA_additional_distance  \n",
      "flight_id                                            \n",
      "191001UAL126    261160.442               103740.442  \n",
      "26713.607746987953 20238.277 -3004.509 103740.442 83\n"
     ]
    }
   ],
   "source": [
    "temp_df = horizontal_PIs_by_flight_df[horizontal_PIs_by_flight_df[\"entry_point\"]==\"SUTEX\"]\n",
    "add_distances = temp_df[\"TMA_additional_distance\"]\n",
    "min_add_distance = min(add_distances)\n",
    "min_df = temp_df[temp_df[\"TMA_additional_distance\"]==min_add_distance]\n",
    "print(min_df)\n",
    "max_add_distance = max(add_distances)\n",
    "max_df = temp_df[temp_df[\"TMA_additional_distance\"]==max_add_distance]\n",
    "print(max_df)\n",
    "mean_add_distance = np.mean(add_distances)\n",
    "median_add_distance = np.median(add_distances)\n",
    "number_of_flights = len(temp_df)\n",
    "print(mean_add_distance, median_add_distance, min_add_distance, max_add_distance, number_of_flights)"
   ]
  },
  {
   "cell_type": "code",
   "execution_count": 12,
   "metadata": {},
   "outputs": [
    {
     "name": "stdout",
     "output_type": "stream",
     "text": [
      "                date  hour entry_point runway  reference_distance  \\\n",
      "flight_id                                                           \n",
      "191004RYR8MF  191004    21       VATRY    28L            133344.0   \n",
      "\n",
      "              TMA_distance  TMA_additional_distance  \n",
      "flight_id                                            \n",
      "191004RYR8MF    122595.607               -10748.393  \n",
      "                 date  hour entry_point runway  reference_distance  \\\n",
      "flight_id                                                            \n",
      "191024RYR34NM  191024    11       VATRY    28L            133344.0   \n",
      "\n",
      "               TMA_distance  TMA_additional_distance  \n",
      "flight_id                                             \n",
      "191024RYR34NM    336744.953               203400.953  \n",
      "30137.66183881575 20930.129 -10748.393 203400.953 608\n"
     ]
    }
   ],
   "source": [
    "temp_df = horizontal_PIs_by_flight_df[horizontal_PIs_by_flight_df[\"entry_point\"]==\"VATRY\"]\n",
    "add_distances = temp_df[\"TMA_additional_distance\"]\n",
    "min_add_distance = min(add_distances)\n",
    "min_df = temp_df[temp_df[\"TMA_additional_distance\"]==min_add_distance]\n",
    "print(min_df)\n",
    "max_add_distance = max(add_distances)\n",
    "max_df = temp_df[temp_df[\"TMA_additional_distance\"]==max_add_distance]\n",
    "print(max_df)\n",
    "mean_add_distance = np.mean(add_distances)\n",
    "median_add_distance = np.median(add_distances)\n",
    "number_of_flights = len(temp_df)\n",
    "print(mean_add_distance, median_add_distance, min_add_distance, max_add_distance, number_of_flights)"
   ]
  },
  {
   "cell_type": "code",
   "execution_count": 13,
   "metadata": {},
   "outputs": [
    {
     "name": "stdout",
     "output_type": "stream",
     "text": [
      "                date  hour entry_point runway  reference_distance  \\\n",
      "flight_id                                                           \n",
      "191013EIN63K  191013    21       LIPGO    28L             70376.0   \n",
      "\n",
      "              TMA_distance  TMA_additional_distance  \n",
      "flight_id                                            \n",
      "191013EIN63K     63542.749                -6833.251  \n",
      "                 date  hour entry_point runway  reference_distance  \\\n",
      "flight_id                                                            \n",
      "191001BAW84DM  191001    13       LIPGO    28L             70376.0   \n",
      "\n",
      "               TMA_distance  TMA_additional_distance  \n",
      "flight_id                                             \n",
      "191001BAW84DM    262243.445               191867.445  \n",
      "6974.992010339743 114.71 -6833.251 191867.445 677\n"
     ]
    }
   ],
   "source": [
    "temp_df = horizontal_PIs_by_flight_df[horizontal_PIs_by_flight_df[\"entry_point\"]==\"LIPGO\"]\n",
    "add_distances = temp_df[\"TMA_additional_distance\"]\n",
    "min_add_distance = min(add_distances)\n",
    "min_df = temp_df[temp_df[\"TMA_additional_distance\"]==min_add_distance]\n",
    "print(min_df)\n",
    "max_add_distance = max(add_distances)\n",
    "max_df = temp_df[temp_df[\"TMA_additional_distance\"]==max_add_distance]\n",
    "print(max_df)\n",
    "mean_add_distance = np.mean(add_distances)\n",
    "median_add_distance = np.median(add_distances)\n",
    "number_of_flights = len(temp_df)\n",
    "print(mean_add_distance, median_add_distance, min_add_distance, max_add_distance, number_of_flights)"
   ]
  }
 ],
 "metadata": {
  "kernelspec": {
   "display_name": "Python 3",
   "language": "python",
   "name": "python3"
  },
  "language_info": {
   "codemirror_mode": {
    "name": "ipython",
    "version": 3
   },
   "file_extension": ".py",
   "mimetype": "text/x-python",
   "name": "python",
   "nbconvert_exporter": "python",
   "pygments_lexer": "ipython3",
   "version": "3.8.8"
  }
 },
 "nbformat": 4,
 "nbformat_minor": 2
}
