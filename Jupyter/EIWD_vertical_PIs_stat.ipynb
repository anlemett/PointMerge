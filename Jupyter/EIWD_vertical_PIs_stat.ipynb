{
 "cells": [
  {
   "cell_type": "code",
   "execution_count": 1,
   "metadata": {},
   "outputs": [],
   "source": [
    "%matplotlib inline\n",
    "\n",
    "import numpy as np\n",
    "import pandas as pd"
   ]
  },
  {
   "cell_type": "markdown",
   "metadata": {},
   "source": [
    "# Data uploading"
   ]
  },
  {
   "cell_type": "code",
   "execution_count": 15,
   "metadata": {},
   "outputs": [
    {
     "name": "stdout",
     "output_type": "stream",
     "text": [
      "                 date  begin_hour  end_hour entry_point  number_of_levels  \\\n",
      "flight_id                                                                   \n",
      "191001AAL724   191001           5         6       OSGAR                 3   \n",
      "191001AFL2590  191001          20        21       NIMAT                 2   \n",
      "191001AFR46MN  191001          16        16       VATRY                 4   \n",
      "191001BAW826Q  191001          20        20       LIPGO                 1   \n",
      "191001BAW834   191001          11        12       BAGSO                 5   \n",
      "\n",
      "               time_on_levels  time_on_levels_percent  TMA_time  cdo_altitude  \n",
      "flight_id                                                                      \n",
      "191001AAL724            6.333                     0.5    24.917        1013.0  \n",
      "191001AFL2590           2.217                     0.3    13.917         863.0  \n",
      "191001AFR46MN           1.883                     0.2    18.750         919.0  \n",
      "191001BAW826Q           1.117                     0.3     8.867         974.0  \n",
      "191001BAW834            7.950                     0.6    23.400        2393.0  \n",
      "2843\n"
     ]
    }
   ],
   "source": [
    "filename = \"../data/EIDW/2019/PIs/PIs_vertical_by_flight_dataset.csv\"\n",
    "vertical_PIs_by_flight_df = pd.read_csv(filename, sep=' ')\n",
    "vertical_PIs_by_flight_df.set_index(['flight_id'], inplace=True)\n",
    "print(vertical_PIs_by_flight_df.head())\n",
    "number_of_flights = len(vertical_PIs_by_flight_df)\n",
    "print(number_of_flights)"
   ]
  },
  {
   "cell_type": "code",
   "execution_count": 3,
   "metadata": {},
   "outputs": [],
   "source": [
    "# \"NIMAT\", \"BOYNE\", \"BAGSO\", \"LIPGO\", \"ABLIN\", \"VATRY\", \"BAMLI\", \"OLAPO\", \"OSGAR\", \"SUTEX\", \"BUNED\""
   ]
  },
  {
   "cell_type": "code",
   "execution_count": 4,
   "metadata": {},
   "outputs": [],
   "source": [
    "temp_df = vertical_PIs_by_flight_df[vertical_PIs_by_flight_df[\"entry_point\"]==\"ABLIN\"]\n",
    "if not temp_df.empty:\n",
    "    time_on_levels = temp_df[\"time_on_levels\"]\n",
    "    min_time_on_levels = min(time_on_levels)\n",
    "    max_time_on_levels = max(time_on_levels)\n",
    "    mean_time_on_levels = np.mean(time_on_levels)\n",
    "    median_time_on_levels = np.median(time_on_levels)\n",
    "    number_of_flights = len(temp_df)\n",
    "    print(mean_time_on_levels, median_time_on_levels, min_time_on_levels, max_time_on_levels, number_of_flights)"
   ]
  },
  {
   "cell_type": "code",
   "execution_count": 5,
   "metadata": {},
   "outputs": [
    {
     "name": "stdout",
     "output_type": "stream",
     "text": [
      "3.3740700325732895 2.675 0.0 17.017 614\n"
     ]
    }
   ],
   "source": [
    "temp_df = vertical_PIs_by_flight_df[vertical_PIs_by_flight_df[\"entry_point\"]==\"BAGSO\"]\n",
    "time_on_levels = temp_df[\"time_on_levels\"]\n",
    "min_time_on_levels = min(time_on_levels)\n",
    "max_time_on_levels = max(time_on_levels)\n",
    "mean_time_on_levels = np.mean(time_on_levels)\n",
    "median_time_on_levels = np.median(time_on_levels)\n",
    "number_of_flights = len(temp_df)\n",
    "print(mean_time_on_levels, median_time_on_levels, min_time_on_levels, max_time_on_levels, number_of_flights)"
   ]
  },
  {
   "cell_type": "code",
   "execution_count": 6,
   "metadata": {},
   "outputs": [
    {
     "name": "stdout",
     "output_type": "stream",
     "text": [
      "4.4884 3.542 1.3 11.7 10\n"
     ]
    }
   ],
   "source": [
    "temp_df = vertical_PIs_by_flight_df[vertical_PIs_by_flight_df[\"entry_point\"]==\"BAMLI\"]\n",
    "time_on_levels = temp_df[\"time_on_levels\"]\n",
    "min_time_on_levels = min(time_on_levels)\n",
    "max_time_on_levels = max(time_on_levels)\n",
    "mean_time_on_levels = np.mean(time_on_levels)\n",
    "median_time_on_levels = np.median(time_on_levels)\n",
    "number_of_flights = len(temp_df)\n",
    "print(mean_time_on_levels, median_time_on_levels, min_time_on_levels, max_time_on_levels, number_of_flights)"
   ]
  },
  {
   "cell_type": "code",
   "execution_count": 7,
   "metadata": {},
   "outputs": [
    {
     "name": "stdout",
     "output_type": "stream",
     "text": [
      "3.5439374999999993 3.108 0.0 9.317 224\n"
     ]
    }
   ],
   "source": [
    "temp_df = vertical_PIs_by_flight_df[vertical_PIs_by_flight_df[\"entry_point\"]==\"BOYNE\"]\n",
    "time_on_levels = temp_df[\"time_on_levels\"]\n",
    "min_time_on_levels = min(time_on_levels)\n",
    "max_time_on_levels = max(time_on_levels)\n",
    "mean_time_on_levels = np.mean(time_on_levels)\n",
    "median_time_on_levels = np.median(time_on_levels)\n",
    "number_of_flights = len(temp_df)\n",
    "print(mean_time_on_levels, median_time_on_levels, min_time_on_levels, max_time_on_levels, number_of_flights)"
   ]
  },
  {
   "cell_type": "code",
   "execution_count": 8,
   "metadata": {},
   "outputs": [
    {
     "name": "stdout",
     "output_type": "stream",
     "text": [
      "3.6251237113402066 3.133 0.0 14.8 97\n"
     ]
    }
   ],
   "source": [
    "temp_df = vertical_PIs_by_flight_df[vertical_PIs_by_flight_df[\"entry_point\"]==\"BUNED\"]\n",
    "time_on_levels = temp_df[\"time_on_levels\"]\n",
    "min_time_on_levels = min(time_on_levels)\n",
    "max_time_on_levels = max(time_on_levels)\n",
    "mean_time_on_levels = np.mean(time_on_levels)\n",
    "median_time_on_levels = np.median(time_on_levels)\n",
    "number_of_flights = len(temp_df)\n",
    "print(mean_time_on_levels, median_time_on_levels, min_time_on_levels, max_time_on_levels, number_of_flights)"
   ]
  },
  {
   "cell_type": "code",
   "execution_count": 9,
   "metadata": {},
   "outputs": [
    {
     "name": "stdout",
     "output_type": "stream",
     "text": [
      "1.327725258493352 1.0 0.0 9.65 677\n"
     ]
    }
   ],
   "source": [
    "temp_df = vertical_PIs_by_flight_df[vertical_PIs_by_flight_df[\"entry_point\"]==\"LIPGO\"]\n",
    "time_on_levels = temp_df[\"time_on_levels\"]\n",
    "min_time_on_levels = min(time_on_levels)\n",
    "max_time_on_levels = max(time_on_levels)\n",
    "mean_time_on_levels = np.mean(time_on_levels)\n",
    "median_time_on_levels = np.median(time_on_levels)\n",
    "number_of_flights = len(temp_df)\n",
    "print(mean_time_on_levels, median_time_on_levels, min_time_on_levels, max_time_on_levels, number_of_flights)"
   ]
  },
  {
   "cell_type": "code",
   "execution_count": 10,
   "metadata": {},
   "outputs": [
    {
     "name": "stdout",
     "output_type": "stream",
     "text": [
      "2.8626468646864676 2.283 0.0 12.8 303\n"
     ]
    }
   ],
   "source": [
    "temp_df = vertical_PIs_by_flight_df[vertical_PIs_by_flight_df[\"entry_point\"]==\"NIMAT\"]\n",
    "time_on_levels = temp_df[\"time_on_levels\"]\n",
    "min_time_on_levels = min(time_on_levels)\n",
    "max_time_on_levels = max(time_on_levels)\n",
    "mean_time_on_levels = np.mean(time_on_levels)\n",
    "median_time_on_levels = np.median(time_on_levels)\n",
    "number_of_flights = len(temp_df)\n",
    "print(mean_time_on_levels, median_time_on_levels, min_time_on_levels, max_time_on_levels, number_of_flights)"
   ]
  },
  {
   "cell_type": "code",
   "execution_count": 11,
   "metadata": {},
   "outputs": [
    {
     "name": "stdout",
     "output_type": "stream",
     "text": [
      "3.276182481751825 2.683 0.0 14.317 137\n"
     ]
    }
   ],
   "source": [
    "temp_df = vertical_PIs_by_flight_df[vertical_PIs_by_flight_df[\"entry_point\"]==\"OLAPO\"]\n",
    "time_on_levels = temp_df[\"time_on_levels\"]\n",
    "min_time_on_levels = min(time_on_levels)\n",
    "max_time_on_levels = max(time_on_levels)\n",
    "mean_time_on_levels = np.mean(time_on_levels)\n",
    "median_time_on_levels = np.median(time_on_levels)\n",
    "number_of_flights = len(temp_df)\n",
    "print(mean_time_on_levels, median_time_on_levels, min_time_on_levels, max_time_on_levels, number_of_flights)"
   ]
  },
  {
   "cell_type": "code",
   "execution_count": 12,
   "metadata": {},
   "outputs": [
    {
     "name": "stdout",
     "output_type": "stream",
     "text": [
      "4.621111111111112 3.8165 0.667 16.417 90\n"
     ]
    }
   ],
   "source": [
    "temp_df = vertical_PIs_by_flight_df[vertical_PIs_by_flight_df[\"entry_point\"]==\"OSGAR\"]\n",
    "time_on_levels = temp_df[\"time_on_levels\"]\n",
    "min_time_on_levels = min(time_on_levels)\n",
    "max_time_on_levels = max(time_on_levels)\n",
    "mean_time_on_levels = np.mean(time_on_levels)\n",
    "median_time_on_levels = np.median(time_on_levels)\n",
    "number_of_flights = len(temp_df)\n",
    "print(mean_time_on_levels, median_time_on_levels, min_time_on_levels, max_time_on_levels, number_of_flights)"
   ]
  },
  {
   "cell_type": "code",
   "execution_count": 13,
   "metadata": {},
   "outputs": [
    {
     "name": "stdout",
     "output_type": "stream",
     "text": [
      "3.3649156626506027 2.783 0.0 12.917 83\n"
     ]
    }
   ],
   "source": [
    "temp_df = vertical_PIs_by_flight_df[vertical_PIs_by_flight_df[\"entry_point\"]==\"SUTEX\"]\n",
    "time_on_levels = temp_df[\"time_on_levels\"]\n",
    "min_time_on_levels = min(time_on_levels)\n",
    "max_time_on_levels = max(time_on_levels)\n",
    "mean_time_on_levels = np.mean(time_on_levels)\n",
    "median_time_on_levels = np.median(time_on_levels)\n",
    "number_of_flights = len(temp_df)\n",
    "print(mean_time_on_levels, median_time_on_levels, min_time_on_levels, max_time_on_levels, number_of_flights)"
   ]
  },
  {
   "cell_type": "code",
   "execution_count": 14,
   "metadata": {},
   "outputs": [
    {
     "name": "stdout",
     "output_type": "stream",
     "text": [
      "3.268342105263158 2.6915 0.0 15.5 608\n"
     ]
    }
   ],
   "source": [
    "temp_df = vertical_PIs_by_flight_df[vertical_PIs_by_flight_df[\"entry_point\"]==\"VATRY\"]\n",
    "time_on_levels = temp_df[\"time_on_levels\"]\n",
    "min_time_on_levels = min(time_on_levels)\n",
    "max_time_on_levels = max(time_on_levels)\n",
    "mean_time_on_levels = np.mean(time_on_levels)\n",
    "median_time_on_levels = np.median(time_on_levels)\n",
    "number_of_flights = len(temp_df)\n",
    "print(mean_time_on_levels, median_time_on_levels, min_time_on_levels, max_time_on_levels, number_of_flights)"
   ]
  }
 ],
 "metadata": {
  "kernelspec": {
   "display_name": "Python 3",
   "language": "python",
   "name": "python3"
  },
  "language_info": {
   "codemirror_mode": {
    "name": "ipython",
    "version": 3
   },
   "file_extension": ".py",
   "mimetype": "text/x-python",
   "name": "python",
   "nbconvert_exporter": "python",
   "pygments_lexer": "ipython3",
   "version": "3.8.8"
  }
 },
 "nbformat": 4,
 "nbformat_minor": 2
}
