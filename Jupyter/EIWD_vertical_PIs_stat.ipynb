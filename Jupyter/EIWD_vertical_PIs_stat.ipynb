{
 "cells": [
  {
   "cell_type": "code",
   "execution_count": 1,
   "metadata": {},
   "outputs": [],
   "source": [
    "%matplotlib inline\n",
    "\n",
    "import numpy as np\n",
    "import pandas as pd"
   ]
  },
  {
   "cell_type": "markdown",
   "metadata": {},
   "source": [
    "# Data uploading"
   ]
  },
  {
   "cell_type": "code",
   "execution_count": 2,
   "metadata": {},
   "outputs": [
    {
     "name": "stdout",
     "output_type": "stream",
     "text": [
      "6934\n"
     ]
    }
   ],
   "source": [
    "filename = \"../data/EIDW/2019/PIs/PIs_vertical_by_flight_dataset.csv\"\n",
    "vertical_PIs_by_flight_df = pd.read_csv(filename, sep=' ')\n",
    "vertical_PIs_by_flight_df.set_index(['flight_id'], inplace=True)\n",
    "number_of_flights = len(vertical_PIs_by_flight_df)\n",
    "print(number_of_flights)"
   ]
  },
  {
   "cell_type": "code",
   "execution_count": 3,
   "metadata": {},
   "outputs": [],
   "source": [
    "# \"NIMAT\", \"BOYNE\", \"BAGSO\", \"LIPGO\", \"ABLIN\", \"VATRY\", \"BAMLI\", \"OLAPO\", \"OSGAR\", \"SUTEX\", \"BUNED\""
   ]
  },
  {
   "cell_type": "code",
   "execution_count": 4,
   "metadata": {},
   "outputs": [
    {
     "name": "stdout",
     "output_type": "stream",
     "text": [
      "2.8340895522388063 2.017 0.0 10.533 67\n"
     ]
    }
   ],
   "source": [
    "temp_df = vertical_PIs_by_flight_df[vertical_PIs_by_flight_df[\"entry_point\"]==\"ABLIN\"]\n",
    "time_on_levels = temp_df[\"time_on_levels\"]\n",
    "min_time_on_levels = min(time_on_levels)\n",
    "max_time_on_levels = max(time_on_levels)\n",
    "mean_time_on_levels = np.mean(time_on_levels)\n",
    "median_time_on_levels = np.median(time_on_levels)\n",
    "number_of_flights = len(temp_df)\n",
    "print(mean_time_on_levels, median_time_on_levels, min_time_on_levels, max_time_on_levels, number_of_flights)"
   ]
  },
  {
   "cell_type": "code",
   "execution_count": 5,
   "metadata": {},
   "outputs": [
    {
     "name": "stdout",
     "output_type": "stream",
     "text": [
      "1.3942127499056947 0.667 0.0 20.667 2651\n"
     ]
    }
   ],
   "source": [
    "temp_df = vertical_PIs_by_flight_df[vertical_PIs_by_flight_df[\"entry_point\"]==\"BAGSO\"]\n",
    "time_on_levels = temp_df[\"time_on_levels\"]\n",
    "min_time_on_levels = min(time_on_levels)\n",
    "max_time_on_levels = max(time_on_levels)\n",
    "mean_time_on_levels = np.mean(time_on_levels)\n",
    "median_time_on_levels = np.median(time_on_levels)\n",
    "number_of_flights = len(temp_df)\n",
    "print(mean_time_on_levels, median_time_on_levels, min_time_on_levels, max_time_on_levels, number_of_flights)"
   ]
  },
  {
   "cell_type": "code",
   "execution_count": 6,
   "metadata": {},
   "outputs": [
    {
     "name": "stdout",
     "output_type": "stream",
     "text": [
      "1.7245909090909088 1.075 0.0 11.7 44\n"
     ]
    }
   ],
   "source": [
    "temp_df = vertical_PIs_by_flight_df[vertical_PIs_by_flight_df[\"entry_point\"]==\"BAMLI\"]\n",
    "time_on_levels = temp_df[\"time_on_levels\"]\n",
    "min_time_on_levels = min(time_on_levels)\n",
    "max_time_on_levels = max(time_on_levels)\n",
    "mean_time_on_levels = np.mean(time_on_levels)\n",
    "median_time_on_levels = np.median(time_on_levels)\n",
    "number_of_flights = len(temp_df)\n",
    "print(mean_time_on_levels, median_time_on_levels, min_time_on_levels, max_time_on_levels, number_of_flights)"
   ]
  },
  {
   "cell_type": "code",
   "execution_count": 7,
   "metadata": {},
   "outputs": [
    {
     "name": "stdout",
     "output_type": "stream",
     "text": [
      "3.0439902912621353 2.6 0.0 9.317 309\n"
     ]
    }
   ],
   "source": [
    "temp_df = vertical_PIs_by_flight_df[vertical_PIs_by_flight_df[\"entry_point\"]==\"BOYNE\"]\n",
    "time_on_levels = temp_df[\"time_on_levels\"]\n",
    "min_time_on_levels = min(time_on_levels)\n",
    "max_time_on_levels = max(time_on_levels)\n",
    "mean_time_on_levels = np.mean(time_on_levels)\n",
    "median_time_on_levels = np.median(time_on_levels)\n",
    "number_of_flights = len(temp_df)\n",
    "print(mean_time_on_levels, median_time_on_levels, min_time_on_levels, max_time_on_levels, number_of_flights)"
   ]
  },
  {
   "cell_type": "code",
   "execution_count": 8,
   "metadata": {},
   "outputs": [
    {
     "name": "stdout",
     "output_type": "stream",
     "text": [
      "1.4979790940766553 0.417 0.0 14.8 287\n"
     ]
    }
   ],
   "source": [
    "temp_df = vertical_PIs_by_flight_df[vertical_PIs_by_flight_df[\"entry_point\"]==\"BUNED\"]\n",
    "time_on_levels = temp_df[\"time_on_levels\"]\n",
    "min_time_on_levels = min(time_on_levels)\n",
    "max_time_on_levels = max(time_on_levels)\n",
    "mean_time_on_levels = np.mean(time_on_levels)\n",
    "median_time_on_levels = np.median(time_on_levels)\n",
    "number_of_flights = len(temp_df)\n",
    "print(mean_time_on_levels, median_time_on_levels, min_time_on_levels, max_time_on_levels, number_of_flights)"
   ]
  },
  {
   "cell_type": "code",
   "execution_count": 9,
   "metadata": {},
   "outputs": [
    {
     "name": "stdout",
     "output_type": "stream",
     "text": [
      "1.2333736501079904 0.817 0.0 14.067 926\n"
     ]
    }
   ],
   "source": [
    "temp_df = vertical_PIs_by_flight_df[vertical_PIs_by_flight_df[\"entry_point\"]==\"LIPGO\"]\n",
    "time_on_levels = temp_df[\"time_on_levels\"]\n",
    "min_time_on_levels = min(time_on_levels)\n",
    "max_time_on_levels = max(time_on_levels)\n",
    "mean_time_on_levels = np.mean(time_on_levels)\n",
    "median_time_on_levels = np.median(time_on_levels)\n",
    "number_of_flights = len(temp_df)\n",
    "print(mean_time_on_levels, median_time_on_levels, min_time_on_levels, max_time_on_levels, number_of_flights)"
   ]
  },
  {
   "cell_type": "code",
   "execution_count": 10,
   "metadata": {},
   "outputs": [
    {
     "name": "stdout",
     "output_type": "stream",
     "text": [
      "1.6630656249999993 1.0 0.0 12.8 640\n"
     ]
    }
   ],
   "source": [
    "temp_df = vertical_PIs_by_flight_df[vertical_PIs_by_flight_df[\"entry_point\"]==\"NIMAT\"]\n",
    "time_on_levels = temp_df[\"time_on_levels\"]\n",
    "min_time_on_levels = min(time_on_levels)\n",
    "max_time_on_levels = max(time_on_levels)\n",
    "mean_time_on_levels = np.mean(time_on_levels)\n",
    "median_time_on_levels = np.median(time_on_levels)\n",
    "number_of_flights = len(temp_df)\n",
    "print(mean_time_on_levels, median_time_on_levels, min_time_on_levels, max_time_on_levels, number_of_flights)"
   ]
  },
  {
   "cell_type": "code",
   "execution_count": 11,
   "metadata": {},
   "outputs": [
    {
     "name": "stdout",
     "output_type": "stream",
     "text": [
      "2.099631410256412 1.7165 0.0 14.317 312\n"
     ]
    }
   ],
   "source": [
    "temp_df = vertical_PIs_by_flight_df[vertical_PIs_by_flight_df[\"entry_point\"]==\"OLAPO\"]\n",
    "time_on_levels = temp_df[\"time_on_levels\"]\n",
    "min_time_on_levels = min(time_on_levels)\n",
    "max_time_on_levels = max(time_on_levels)\n",
    "mean_time_on_levels = np.mean(time_on_levels)\n",
    "median_time_on_levels = np.median(time_on_levels)\n",
    "number_of_flights = len(temp_df)\n",
    "print(mean_time_on_levels, median_time_on_levels, min_time_on_levels, max_time_on_levels, number_of_flights)"
   ]
  },
  {
   "cell_type": "code",
   "execution_count": 12,
   "metadata": {},
   "outputs": [
    {
     "name": "stdout",
     "output_type": "stream",
     "text": [
      "2.460196153846155 1.767 0.0 16.417 260\n"
     ]
    }
   ],
   "source": [
    "temp_df = vertical_PIs_by_flight_df[vertical_PIs_by_flight_df[\"entry_point\"]==\"OSGAR\"]\n",
    "time_on_levels = temp_df[\"time_on_levels\"]\n",
    "min_time_on_levels = min(time_on_levels)\n",
    "max_time_on_levels = max(time_on_levels)\n",
    "mean_time_on_levels = np.mean(time_on_levels)\n",
    "median_time_on_levels = np.median(time_on_levels)\n",
    "number_of_flights = len(temp_df)\n",
    "print(mean_time_on_levels, median_time_on_levels, min_time_on_levels, max_time_on_levels, number_of_flights)"
   ]
  },
  {
   "cell_type": "code",
   "execution_count": 13,
   "metadata": {},
   "outputs": [
    {
     "name": "stdout",
     "output_type": "stream",
     "text": [
      "1.8899049773755658 1.283 0.0 12.917 221\n"
     ]
    }
   ],
   "source": [
    "temp_df = vertical_PIs_by_flight_df[vertical_PIs_by_flight_df[\"entry_point\"]==\"SUTEX\"]\n",
    "time_on_levels = temp_df[\"time_on_levels\"]\n",
    "min_time_on_levels = min(time_on_levels)\n",
    "max_time_on_levels = max(time_on_levels)\n",
    "mean_time_on_levels = np.mean(time_on_levels)\n",
    "median_time_on_levels = np.median(time_on_levels)\n",
    "number_of_flights = len(temp_df)\n",
    "print(mean_time_on_levels, median_time_on_levels, min_time_on_levels, max_time_on_levels, number_of_flights)"
   ]
  },
  {
   "cell_type": "code",
   "execution_count": 14,
   "metadata": {},
   "outputs": [
    {
     "name": "stdout",
     "output_type": "stream",
     "text": [
      "2.091886606409203 1.5 0.0 15.5 1217\n"
     ]
    }
   ],
   "source": [
    "temp_df = vertical_PIs_by_flight_df[vertical_PIs_by_flight_df[\"entry_point\"]==\"VATRY\"]\n",
    "time_on_levels = temp_df[\"time_on_levels\"]\n",
    "min_time_on_levels = min(time_on_levels)\n",
    "max_time_on_levels = max(time_on_levels)\n",
    "mean_time_on_levels = np.mean(time_on_levels)\n",
    "median_time_on_levels = np.median(time_on_levels)\n",
    "number_of_flights = len(temp_df)\n",
    "print(mean_time_on_levels, median_time_on_levels, min_time_on_levels, max_time_on_levels, number_of_flights)"
   ]
  }
 ],
 "metadata": {
  "kernelspec": {
   "display_name": "Python 3",
   "language": "python",
   "name": "python3"
  },
  "language_info": {
   "codemirror_mode": {
    "name": "ipython",
    "version": 3
   },
   "file_extension": ".py",
   "mimetype": "text/x-python",
   "name": "python",
   "nbconvert_exporter": "python",
   "pygments_lexer": "ipython3",
   "version": "3.8.8"
  }
 },
 "nbformat": 4,
 "nbformat_minor": 2
}
