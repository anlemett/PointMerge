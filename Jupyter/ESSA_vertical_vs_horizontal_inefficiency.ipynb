{
 "cells": [
  {
   "cell_type": "code",
   "execution_count": 1,
   "metadata": {},
   "outputs": [],
   "source": [
    "%matplotlib inline\n",
    "\n",
    "import numpy as np\n",
    "import pandas as pd\n",
    "import matplotlib.pyplot as plt\n",
    "import seaborn as sns"
   ]
  },
  {
   "cell_type": "code",
   "execution_count": 2,
   "metadata": {},
   "outputs": [],
   "source": [
    "#year = '2020'\n",
    "#airport_icao = \"ESSA\"\n",
    "#DATA_DIR = os.path.join(\"..\", \"data\")\n",
    "#DATA_DIR = os.path.join(DATA_DIR, airport_icao)\n",
    "#DATA_DIR = os.path.join(DATA_DIR, year)\n",
    "#DATA_DIR = os.path.join(DATA_DIR, \"PIs\")\n",
    "filename = \"../data/ESSA/2020/PIs/PIs_by_flight_2020_05.csv\"\n",
    "PIs_by_flight_2020_df = pd.read_csv(filename, sep=' ')\n",
    "PIs_by_flight_2020_df = PIs_by_flight_2020_df[['flight_id', 'time_on_levels','TMA_time']]"
   ]
  },
  {
   "cell_type": "markdown",
   "metadata": {},
   "source": [
    "# 2020"
   ]
  },
  {
   "cell_type": "code",
   "execution_count": 3,
   "metadata": {},
   "outputs": [
    {
     "name": "stdout",
     "output_type": "stream",
     "text": [
      "Empty DataFrame\n",
      "Columns: [flight_id, time_on_levels, TMA_time]\n",
      "Index: []\n"
     ]
    }
   ],
   "source": [
    "df = PIs_by_flight_2020_df[(PIs_by_flight_2020_df['time_on_levels']>6) & (PIs_by_flight_2020_df['TMA_time']<10)]\n",
    "print(df)"
   ]
  },
  {
   "cell_type": "code",
   "execution_count": 4,
   "metadata": {},
   "outputs": [
    {
     "data": {
      "image/png": "[encoded data removed]",
      "text/plain": [
       "<Figure size 432x288 with 1 Axes>"
      ]
     },
     "metadata": {
      "needs_background": "light"
     },
     "output_type": "display_data"
    }
   ],
   "source": [
    "df = PIs_by_flight_2020_df\n",
    "\n",
    "#df = df[df['TMA_time']<30]\n",
    "#df = df[df['time_on_levels']<20]\n",
    "\n",
    "x = df['TMA_time']\n",
    "y = df['time_on_levels']\n",
    "\n",
    "# Plot\n",
    "fig, ax = plt.subplots(1, 1)\n",
    "\n",
    "ax.scatter(x, y, c='black', alpha=0.5, s=2)\n",
    "ax.set_xlim(0,25)\n",
    "ax.set_ylim(0,25)\n",
    "#plt.axis('equal')\n",
    "ax.set_aspect('equal', adjustable='box')\n",
    "plt.xlabel('Time in TMA [min]')\n",
    "plt.ylabel('Time on level0[min]')\n",
    "plt.plot(np.array([0, 25]), np.array([0, 25]))\n",
    "plt.show()\n"
   ]
  }
 ],
 "metadata": {
  "kernelspec": {
   "display_name": "Python 3",
   "language": "python",
   "name": "python3"
  },
  "language_info": {
   "codemirror_mode": {
    "name": "ipython",
    "version": 3
   },
   "file_extension": ".py",
   "mimetype": "text/x-python",
   "name": "python",
   "nbconvert_exporter": "python",
   "pygments_lexer": "ipython3",
   "version": "3.8.8"
  }
 },
 "nbformat": 4,
 "nbformat_minor": 4
}
