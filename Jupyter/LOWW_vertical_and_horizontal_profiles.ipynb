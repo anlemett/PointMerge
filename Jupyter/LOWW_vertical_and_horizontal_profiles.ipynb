{
 "cells": [
  {
   "cell_type": "code",
   "execution_count": 1,
   "metadata": {},
   "outputs": [],
   "source": [
    "%matplotlib inline\n",
    "\n",
    "import numpy as np\n",
    "import pandas as pd\n",
    "import matplotlib.pyplot as plt\n",
    "import seaborn as sns\n",
    "\n",
    "from datetime import datetime\n",
    "from datetime import timezone\n",
    "\n",
    "from math import cos, radians"
   ]
  },
  {
   "cell_type": "code",
   "execution_count": 2,
   "metadata": {},
   "outputs": [],
   "source": [
    "TMA_lon = [15.9854, 15.7247, 15.4078, 15.3864, 15.6594, 16.0503, 16.2683, 16.4347, 17.0932, 17.1607, 16.9543, 16.9061, 16.5407, 15.9854];\n",
    "\n",
    "TMA_lat = [48.7869, 48.7339, 48.2864, 48.1267, 47.8739, 47.5028, 47.2939, 47.2395, 47.7082, 48.0066, 48.5436, 48.7150, 48.8143, 48.7869];\n",
    " \n",
    "def plot_TMA_LOWW():\n",
    "       \n",
    "    #rwy1_lon=[, ];\n",
    "    #rwy1_lat=[, ];\n",
    "\n",
    "    #rwy2_lon=[, ];\n",
    "    #rwy2_lat=[, ];\n",
    "\n",
    "    plt.plot(TMA_lon, TMA_lat, color=\"blue\")\n",
    "    #plt.plot(rwy1_lon,rwy1_lat, color=\"red\")\n",
    "    #plt.plot(rwy2_lon,rwy2_lat, color=\"red\")\n",
    "    \n",
    "    #ELTOK_lon = 16.6503\n",
    "    #ELTOK_lat = 59.5861\n",
    "\n",
    "    #plt.plot(ELTOK_lon, ELTOK_lat, 'ro')"
   ]
  },
  {
   "cell_type": "code",
   "execution_count": 3,
   "metadata": {},
   "outputs": [
    {
     "name": "stdout",
     "output_type": "stream",
     "text": [
      "47.2395\n",
      "48.8143\n",
      "48.0269\n",
      "15.3864\n",
      "17.1607\n"
     ]
    }
   ],
   "source": [
    "central_latitude = min(TMA_lat) + (max(TMA_lat)-min(TMA_lat))/2\n",
    "print(min(TMA_lat))\n",
    "print(max(TMA_lat))\n",
    "print(central_latitude)\n",
    "\n",
    "print(min(TMA_lon))\n",
    "print(max(TMA_lon))"
   ]
  },
  {
   "cell_type": "code",
   "execution_count": 4,
   "metadata": {},
   "outputs": [],
   "source": [
    " def plot_horizontal_profile_LOWW(df, runway, linewidth):\n",
    "    \n",
    "    #plt.figure(figsize=(6,6))\n",
    "    fig, ax = plt.subplots(1, 1,figsize=(10,10))\n",
    "    \n",
    "    # calculate the aspect ratio that will approximate a \n",
    "    # Mercator projection at this central latitude \n",
    "    mercator_aspect_ratio = 1/cos(radians(central_latitude))\n",
    "\n",
    "    # set the aspect ratio of the axes to that\n",
    "    ax.set_aspect(mercator_aspect_ratio)\n",
    "\n",
    "    #plt.axes().set_aspect('equal')\n",
    "    \n",
    "    #ax.set_aspect('equal', adjustable='box')\n",
    "    #ax.set_xlim(16,20)\n",
    "    #ax.set_ylim(57.5,61.5)\n",
    "    \n",
    "    plt.xlabel('Longitude', fontsize=25)\n",
    "    plt.ylabel('Latitude', fontsize=25)  \n",
    "    \n",
    "    plt.tick_params(labelsize=15)\n",
    "    \n",
    "    plot_TMA_LOWW()\n",
    "    \n",
    "    if df.empty:\n",
    "        return\n",
    "    \n",
    "    for flight_id, new_df in df.groupby(level='flight_id'):\n",
    "        #print(flight_id)\n",
    "        flight_states_opensky_df = df.loc[(flight_id,), :]\n",
    "        lon = []\n",
    "        lat = []\n",
    "        for seq, row in flight_states_opensky_df.groupby(level='sequence'):\n",
    "        \n",
    "            lon.append(row['lon'].item())\n",
    "            lat.append(row['lat'].item())\n",
    "            \n",
    "        #last_points_lon = lon[-30:]\n",
    "        #last_points_lat = lat[-30:]\n",
    "        plt.plot(lon, lat, color='k', linewidth=linewidth)\n",
    "        #plt.plot(last_points_lon, last_points_lat, color='r', linewidth=linewidth)"
   ]
  },
  {
   "cell_type": "code",
   "execution_count": 5,
   "metadata": {},
   "outputs": [],
   "source": [
    "def plot_vertical_profile(flight_df, final_approach, linewidth):\n",
    "    \n",
    "    df = flight_df[flight_df['altitude']>=final_approach]\n",
    "       \n",
    "    for flight_id, flight_id_group in df.groupby(level='flight_id'):\n",
    "        flight_states_df = df.loc[(flight_id,), :]\n",
    "        \n",
    "        flight_states_df =flight_states_df.sort_index(level=['sequence'], ascending = False)\n",
    "        \n",
    "        if not flight_states_df.empty:\n",
    "\n",
    "            opensky_states_altitudes = flight_id_group['altitude'].tolist()\n",
    "            opensky_states_times = flight_id_group.index.get_level_values('sequence').tolist()\n",
    "\n",
    "            prev_altitude = final_approach\n",
    "                \n",
    "            plt.plot(opensky_states_times, opensky_states_altitudes, color='k', linewidth=linewidth)\n"
   ]
  },
  {
   "cell_type": "code",
   "execution_count": 6,
   "metadata": {},
   "outputs": [],
   "source": [
    "def plot_raw_vertical_profile(flight_df, final_approach, linewidth):\n",
    "    \n",
    "    df = flight_df[flight_df['altitude']>=final_approach]\n",
    "       \n",
    "    for flight_id, flight_id_group in df.groupby(level='flight_id'):\n",
    "        flight_states_df = df.loc[(flight_id,), :]\n",
    "        \n",
    "        flight_states_df =flight_states_df.sort_index(level=['sequence'], ascending = False)\n",
    "        \n",
    "        if not flight_states_df.empty:\n",
    "\n",
    "            opensky_states_altitudes = flight_id_group['rawAltitude'].tolist()\n",
    "            opensky_states_times = flight_id_group.index.get_level_values('sequence').tolist()\n",
    "\n",
    "            prev_altitude = final_approach\n",
    "                \n",
    "            plt.plot(opensky_states_times, opensky_states_altitudes, color='k', linewidth=linewidth)"
   ]
  },
  {
   "cell_type": "markdown",
   "metadata": {},
   "source": [
    "# Data uploading"
   ]
  },
  {
   "cell_type": "code",
   "execution_count": 37,
   "metadata": {},
   "outputs": [],
   "source": [
    "filename = \"../data/LOWW/2019/osn_LOWW_states_TMA_2019/osn_LOWW_states_TMA_2019_10_week1_old.csv\"\n",
    "#filename = \"../data/LOWW/2019/osn_LOWW_states_TMA_2019/osn_LOWW_states_TMA_2019_10_week1.csv\"\n",
    "LOWW_states_2019_10_week1_df = pd.read_csv(filename, sep=' ',\n",
    "                            names = ['flight_id', 'sequence', 'timestamp', 'lat', 'lon', 'rawAltitude', 'altitude', 'velocity', 'date'])\n",
    "LOWW_states_2019_10_week1_df.set_index(['flight_id', 'sequence'], inplace = True)"
   ]
  },
  {
   "cell_type": "code",
   "execution_count": 50,
   "metadata": {
    "scrolled": true
   },
   "outputs": [
    {
     "data": {
      "image/png": "[encoded data removed]",
      "text/plain": [
       "<Figure size 432x288 with 1 Axes>"
      ]
     },
     "metadata": {
      "needs_background": "light"
     },
     "output_type": "display_data"
    },
    {
     "data": {
      "image/png": "[encoded data removed]",
      "text/plain": [
       "<Figure size 720x720 with 1 Axes>"
      ]
     },
     "metadata": {
      "needs_background": "light"
     },
     "output_type": "display_data"
    }
   ],
   "source": [
    "df = LOWW_states_2019_10_week1_df\n",
    "flight_df = df[df.index.get_level_values('flight_id') == '191004AUA474']\n",
    "plot_vertical_profile(flight_df, 0, 2)\n",
    "#plot_raw_vertical_profile(flight_df, 0, 2)\n",
    "plot_horizontal_profile_LOWW(flight_df, \"x\", 2)"
   ]
  },
  {
   "cell_type": "code",
   "execution_count": 15,
   "metadata": {},
   "outputs": [],
   "source": [
    "filename = \"../data/LOWW/2019/osn_LOWW_states_TMA_2019/osn_LOWW_states_TMA_2019_10_week1.csv\"\n",
    "df = LOWW_states_2019_10_week1_df\n",
    "#df = df.drop(\"\")\n",
    "df = df.drop(\"191001LDM29Z\")\n",
    "df = df.drop(\"191001LDM748Z\")\n",
    "df = df.drop(\"191001AUA240\")\n",
    "df = df.drop(\"191001AUA565R\")\n",
    "df = df.drop(\"191001EWG3JP\")\n",
    "df = df.drop(\"191001AUA226\")\n",
    "df = df.drop(\"191002WZZ238\")\n",
    "df = df.drop(\"191002C33\")\n",
    "df = df.drop(\"191002AUA132\")\n",
    "df = df.drop(\"191003AUA52\")\n",
    "df = df.drop(\"191003AUA6TR\")\n",
    "df = df.drop(\"191003AUA4059\")\n",
    "df = df.drop(\"191003BTI2UK\")\n",
    "df = df.drop(\"191003CHH789\")\n",
    "df = df.drop(\"191003EWG5273\")    # big fluctuation on the second sequence, todo: fix\n",
    "df = df.drop(\"191004AUA134\")\n",
    "df = df.drop(\"191004WZZ248\")\n",
    "df = df.drop(\"191004CSN662\")\n",
    "df = df.drop(\"191004AUA77H\")\n",
    "df = df.drop(\"191004AUA41A\")    #altitude on the first sequence is 0, todo: fix\n",
    "df = df.drop(\"191004AUA474\")\n",
    "df = df.drop(\"191004WZZ6127\")\n",
    "df = df.drop(\"191005AUA95HK\")\n",
    "df = df.drop(\"191005LDM748Z\")\n",
    "df = df.drop(\"191005AUA134\")\n",
    "df = df.drop(\"191005C2\")\n",
    "df = df.drop(\"191005MJF6B\")\n",
    "df = df.drop(\"191005AUA9412\")\n",
    "df = df.drop(\"191006EWG7HB\")\n",
    "df = df.drop(\"191006LDM5ST\")\n",
    "df = df.drop(\"191006AUA174\")\n",
    "df = df.drop(\"191006AUA336\")\n",
    "df = df.drop(\"191006KLM64X\")\n",
    "df = df.drop(\"191006AUA568\")\n",
    "df = df.drop(\"191007AIC120\")\n",
    "df = df.drop(\"191007AUA336\")\n",
    "\n",
    "df.to_csv(filename, sep=' ', encoding='utf-8', float_format='%.3f', index = True, header = False)"
   ]
  },
  {
   "cell_type": "code",
   "execution_count": null,
   "metadata": {},
   "outputs": [],
   "source": [
    "plot_horizontal_profile_LOWW(df, \"x\", 2)"
   ]
  },
  {
   "cell_type": "code",
   "execution_count": null,
   "metadata": {},
   "outputs": [],
   "source": [
    "plot_vertical_profile(df, 0, 2)"
   ]
  }
 ],
 "metadata": {
  "kernelspec": {
   "display_name": "Python 3",
   "language": "python",
   "name": "python3"
  },
  "language_info": {
   "codemirror_mode": {
    "name": "ipython",
    "version": 3
   },
   "file_extension": ".py",
   "mimetype": "text/x-python",
   "name": "python",
   "nbconvert_exporter": "python",
   "pygments_lexer": "ipython3",
   "version": "3.8.8"
  }
 },
 "nbformat": 4,
 "nbformat_minor": 2
}
